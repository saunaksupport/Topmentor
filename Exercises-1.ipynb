{
 "cells": [
  {
   "cell_type": "code",
   "execution_count": 1,
   "metadata": {},
   "outputs": [],
   "source": [
    "%matplotlib inline\n",
    "import pandas as pd"
   ]
  },
  {
   "cell_type": "code",
   "execution_count": 3,
   "metadata": {},
   "outputs": [
    {
     "data": {
      "text/html": [
       "<div>\n",
       "<style scoped>\n",
       "    .dataframe tbody tr th:only-of-type {\n",
       "        vertical-align: middle;\n",
       "    }\n",
       "\n",
       "    .dataframe tbody tr th {\n",
       "        vertical-align: top;\n",
       "    }\n",
       "\n",
       "    .dataframe thead th {\n",
       "        text-align: right;\n",
       "    }\n",
       "</style>\n",
       "<table border=\"1\" class=\"dataframe\">\n",
       "  <thead>\n",
       "    <tr style=\"text-align: right;\">\n",
       "      <th></th>\n",
       "      <th>title</th>\n",
       "      <th>year</th>\n",
       "      <th>name</th>\n",
       "      <th>type</th>\n",
       "      <th>character</th>\n",
       "      <th>n</th>\n",
       "    </tr>\n",
       "  </thead>\n",
       "  <tbody>\n",
       "    <tr>\n",
       "      <th>0</th>\n",
       "      <td>Closet Monster</td>\n",
       "      <td>2015</td>\n",
       "      <td>Buffy #1</td>\n",
       "      <td>actor</td>\n",
       "      <td>Buffy 4</td>\n",
       "      <td>NaN</td>\n",
       "    </tr>\n",
       "    <tr>\n",
       "      <th>1</th>\n",
       "      <td>Suuri illusioni</td>\n",
       "      <td>1985</td>\n",
       "      <td>Homo $</td>\n",
       "      <td>actor</td>\n",
       "      <td>Guests</td>\n",
       "      <td>22.0</td>\n",
       "    </tr>\n",
       "    <tr>\n",
       "      <th>2</th>\n",
       "      <td>Battle of the Sexes</td>\n",
       "      <td>2017</td>\n",
       "      <td>$hutter</td>\n",
       "      <td>actor</td>\n",
       "      <td>Bobby Riggs Fan</td>\n",
       "      <td>10.0</td>\n",
       "    </tr>\n",
       "    <tr>\n",
       "      <th>3</th>\n",
       "      <td>Secret in Their Eyes</td>\n",
       "      <td>2015</td>\n",
       "      <td>$hutter</td>\n",
       "      <td>actor</td>\n",
       "      <td>2002 Dodger Fan</td>\n",
       "      <td>NaN</td>\n",
       "    </tr>\n",
       "    <tr>\n",
       "      <th>4</th>\n",
       "      <td>Steve Jobs</td>\n",
       "      <td>2015</td>\n",
       "      <td>$hutter</td>\n",
       "      <td>actor</td>\n",
       "      <td>1988 Opera House Patron</td>\n",
       "      <td>NaN</td>\n",
       "    </tr>\n",
       "  </tbody>\n",
       "</table>\n",
       "</div>"
      ],
      "text/plain": [
       "                  title  year      name   type                character     n\n",
       "0        Closet Monster  2015  Buffy #1  actor                  Buffy 4   NaN\n",
       "1       Suuri illusioni  1985    Homo $  actor                   Guests  22.0\n",
       "2   Battle of the Sexes  2017   $hutter  actor          Bobby Riggs Fan  10.0\n",
       "3  Secret in Their Eyes  2015   $hutter  actor          2002 Dodger Fan   NaN\n",
       "4            Steve Jobs  2015   $hutter  actor  1988 Opera House Patron   NaN"
      ]
     },
     "execution_count": 3,
     "metadata": {},
     "output_type": "execute_result"
    }
   ],
   "source": [
    "cast = pd.read_csv('D://TOPMENTOR//PANDA//cast.csv')\n",
    "cast.head()"
   ]
  },
  {
   "cell_type": "code",
   "execution_count": 10,
   "metadata": {},
   "outputs": [
    {
     "data": {
      "text/html": [
       "<div>\n",
       "<style scoped>\n",
       "    .dataframe tbody tr th:only-of-type {\n",
       "        vertical-align: middle;\n",
       "    }\n",
       "\n",
       "    .dataframe tbody tr th {\n",
       "        vertical-align: top;\n",
       "    }\n",
       "\n",
       "    .dataframe thead th {\n",
       "        text-align: right;\n",
       "    }\n",
       "</style>\n",
       "<table border=\"1\" class=\"dataframe\">\n",
       "  <thead>\n",
       "    <tr style=\"text-align: right;\">\n",
       "      <th></th>\n",
       "      <th>title</th>\n",
       "      <th>year</th>\n",
       "      <th>name</th>\n",
       "      <th>type</th>\n",
       "      <th>character</th>\n",
       "      <th>n</th>\n",
       "    </tr>\n",
       "  </thead>\n",
       "  <tbody>\n",
       "    <tr>\n",
       "      <th>3085</th>\n",
       "      <td>Samyy luchshiy film 3-DE</td>\n",
       "      <td>2011</td>\n",
       "      <td>Vitaliy Abdulov</td>\n",
       "      <td>actor</td>\n",
       "      <td>Prorab</td>\n",
       "      <td>66.0</td>\n",
       "    </tr>\n",
       "    <tr>\n",
       "      <th>16703</th>\n",
       "      <td>Samyy luchshiy film 3-DE</td>\n",
       "      <td>2011</td>\n",
       "      <td>Vyacheslav Agashkin</td>\n",
       "      <td>actor</td>\n",
       "      <td>Zhurnalist</td>\n",
       "      <td>75.0</td>\n",
       "    </tr>\n",
       "    <tr>\n",
       "      <th>25320</th>\n",
       "      <td>Jammin' in the Middle E</td>\n",
       "      <td>2005</td>\n",
       "      <td>Marouf Alameddine</td>\n",
       "      <td>actor</td>\n",
       "      <td>Hakim</td>\n",
       "      <td>NaN</td>\n",
       "    </tr>\n",
       "    <tr>\n",
       "      <th>46819</th>\n",
       "      <td>All About E</td>\n",
       "      <td>2015</td>\n",
       "      <td>Cooper George Amai</td>\n",
       "      <td>actor</td>\n",
       "      <td>Club DJ</td>\n",
       "      <td>23.0</td>\n",
       "    </tr>\n",
       "    <tr>\n",
       "      <th>54883</th>\n",
       "      <td>That's E</td>\n",
       "      <td>2015</td>\n",
       "      <td>Jeff (LVIII) Anderson</td>\n",
       "      <td>actor</td>\n",
       "      <td>The Rapper</td>\n",
       "      <td>11.0</td>\n",
       "    </tr>\n",
       "    <tr>\n",
       "      <th>59697</th>\n",
       "      <td>Samyy luchshiy film 3-DE</td>\n",
       "      <td>2011</td>\n",
       "      <td>Aleksandr Andrienko</td>\n",
       "      <td>actor</td>\n",
       "      <td>Mayor</td>\n",
       "      <td>10.0</td>\n",
       "    </tr>\n",
       "    <tr>\n",
       "      <th>62374</th>\n",
       "      <td>Samyy luchshiy film 3-DE</td>\n",
       "      <td>2011</td>\n",
       "      <td>Aleksey Anikin</td>\n",
       "      <td>actor</td>\n",
       "      <td>'Andrey Kavun'</td>\n",
       "      <td>41.0</td>\n",
       "    </tr>\n",
       "    <tr>\n",
       "      <th>73369</th>\n",
       "      <td>S E Q U E N C E</td>\n",
       "      <td>2015</td>\n",
       "      <td>Robert Arender</td>\n",
       "      <td>actor</td>\n",
       "      <td>Birthday Dad</td>\n",
       "      <td>NaN</td>\n",
       "    </tr>\n",
       "    <tr>\n",
       "      <th>82808</th>\n",
       "      <td>Samyy luchshiy film 3-DE</td>\n",
       "      <td>2011</td>\n",
       "      <td>Maksim Artamonov</td>\n",
       "      <td>actor</td>\n",
       "      <td>Okhrannik</td>\n",
       "      <td>24.0</td>\n",
       "    </tr>\n",
       "    <tr>\n",
       "      <th>83488</th>\n",
       "      <td>Samyy luchshiy film 3-DE</td>\n",
       "      <td>2011</td>\n",
       "      <td>Zauri Artmeladze</td>\n",
       "      <td>actor</td>\n",
       "      <td>'Nikita Sergeevich'</td>\n",
       "      <td>42.0</td>\n",
       "    </tr>\n",
       "    <tr>\n",
       "      <th>87077</th>\n",
       "      <td>That's E</td>\n",
       "      <td>2015</td>\n",
       "      <td>Vasilios Asimakos</td>\n",
       "      <td>actor</td>\n",
       "      <td>Sean</td>\n",
       "      <td>1.0</td>\n",
       "    </tr>\n",
       "    <tr>\n",
       "      <th>102616</th>\n",
       "      <td>ZOE's SECURITY SERVICE</td>\n",
       "      <td>2017</td>\n",
       "      <td>Robert Babaji</td>\n",
       "      <td>actor</td>\n",
       "      <td>Detlef Dos Santos</td>\n",
       "      <td>4.0</td>\n",
       "    </tr>\n",
       "    <tr>\n",
       "      <th>103226</th>\n",
       "      <td>Samyy luchshiy film 3-DE</td>\n",
       "      <td>2011</td>\n",
       "      <td>Nikolay Babenko</td>\n",
       "      <td>actor</td>\n",
       "      <td>Paren 1</td>\n",
       "      <td>93.0</td>\n",
       "    </tr>\n",
       "    <tr>\n",
       "      <th>106342</th>\n",
       "      <td>Charlie gegen ALLE</td>\n",
       "      <td>1963</td>\n",
       "      <td>Lloyd Bacon</td>\n",
       "      <td>actor</td>\n",
       "      <td>Second Thief</td>\n",
       "      <td>5.0</td>\n",
       "    </tr>\n",
       "    <tr>\n",
       "      <th>106343</th>\n",
       "      <td>Charlie gegen ALLE</td>\n",
       "      <td>1963</td>\n",
       "      <td>Lloyd Bacon</td>\n",
       "      <td>actor</td>\n",
       "      <td>Edna's Fianc?</td>\n",
       "      <td>5.0</td>\n",
       "    </tr>\n",
       "    <tr>\n",
       "      <th>106344</th>\n",
       "      <td>Charlie gegen ALLE</td>\n",
       "      <td>1963</td>\n",
       "      <td>Lloyd Bacon</td>\n",
       "      <td>actor</td>\n",
       "      <td>Bank robber</td>\n",
       "      <td>5.0</td>\n",
       "    </tr>\n",
       "    <tr>\n",
       "      <th>106345</th>\n",
       "      <td>Charlie gegen ALLE</td>\n",
       "      <td>1963</td>\n",
       "      <td>Lloyd Bacon</td>\n",
       "      <td>actor</td>\n",
       "      <td>Second Sparring Partner</td>\n",
       "      <td>5.0</td>\n",
       "    </tr>\n",
       "    <tr>\n",
       "      <th>106346</th>\n",
       "      <td>Charlie gegen ALLE</td>\n",
       "      <td>1963</td>\n",
       "      <td>Lloyd Bacon</td>\n",
       "      <td>actor</td>\n",
       "      <td>Exerciser in Gym</td>\n",
       "      <td>5.0</td>\n",
       "    </tr>\n",
       "    <tr>\n",
       "      <th>106347</th>\n",
       "      <td>Charlie gegen ALLE</td>\n",
       "      <td>1963</td>\n",
       "      <td>Lloyd Bacon</td>\n",
       "      <td>actor</td>\n",
       "      <td>Referee</td>\n",
       "      <td>5.0</td>\n",
       "    </tr>\n",
       "    <tr>\n",
       "      <th>106783</th>\n",
       "      <td>Samyy luchshiy film 3-DE</td>\n",
       "      <td>2011</td>\n",
       "      <td>Karen Badalov</td>\n",
       "      <td>actor</td>\n",
       "      <td>Dyadya Venya</td>\n",
       "      <td>15.0</td>\n",
       "    </tr>\n",
       "    <tr>\n",
       "      <th>113923</th>\n",
       "      <td>S E Q U E N C E</td>\n",
       "      <td>2015</td>\n",
       "      <td>David Aaron Baker</td>\n",
       "      <td>actor</td>\n",
       "      <td>Father James Martin</td>\n",
       "      <td>NaN</td>\n",
       "    </tr>\n",
       "    <tr>\n",
       "      <th>122206</th>\n",
       "      <td>Samyy luchshiy film 3-DE</td>\n",
       "      <td>2011</td>\n",
       "      <td>Aleksandr Baluev</td>\n",
       "      <td>actor</td>\n",
       "      <td>Viktor Palych</td>\n",
       "      <td>4.0</td>\n",
       "    </tr>\n",
       "    <tr>\n",
       "      <th>123834</th>\n",
       "      <td>Bhalobasa Off Route E</td>\n",
       "      <td>2012</td>\n",
       "      <td>Rahul Banerjee</td>\n",
       "      <td>actor</td>\n",
       "      <td>Sidhartha</td>\n",
       "      <td>NaN</td>\n",
       "    </tr>\n",
       "    <tr>\n",
       "      <th>124711</th>\n",
       "      <td>LOVE by CHANCE</td>\n",
       "      <td>2017</td>\n",
       "      <td>Desi Banks</td>\n",
       "      <td>actor</td>\n",
       "      <td>Dante</td>\n",
       "      <td>NaN</td>\n",
       "    </tr>\n",
       "    <tr>\n",
       "      <th>131894</th>\n",
       "      <td>Samyy luchshiy film 3-DE</td>\n",
       "      <td>2011</td>\n",
       "      <td>Andrey Barkov</td>\n",
       "      <td>actor</td>\n",
       "      <td>Alkash</td>\n",
       "      <td>31.0</td>\n",
       "    </tr>\n",
       "    <tr>\n",
       "      <th>157518</th>\n",
       "      <td>All About E</td>\n",
       "      <td>2015</td>\n",
       "      <td>Robert Bedbrook</td>\n",
       "      <td>actor</td>\n",
       "      <td>Brett</td>\n",
       "      <td>21.0</td>\n",
       "    </tr>\n",
       "    <tr>\n",
       "      <th>166764</th>\n",
       "      <td>Samyy luchshiy film 3-DE</td>\n",
       "      <td>2011</td>\n",
       "      <td>Sergey Belov</td>\n",
       "      <td>actor</td>\n",
       "      <td>Reporter</td>\n",
       "      <td>46.0</td>\n",
       "    </tr>\n",
       "    <tr>\n",
       "      <th>167300</th>\n",
       "      <td>Samyy luchshiy film 3-DE</td>\n",
       "      <td>2011</td>\n",
       "      <td>Igor (III) Belyaev</td>\n",
       "      <td>actor</td>\n",
       "      <td>Muzhchina v traure</td>\n",
       "      <td>54.0</td>\n",
       "    </tr>\n",
       "    <tr>\n",
       "      <th>176794</th>\n",
       "      <td>All About E</td>\n",
       "      <td>2015</td>\n",
       "      <td>Paul Berenger</td>\n",
       "      <td>actor</td>\n",
       "      <td>George</td>\n",
       "      <td>29.0</td>\n",
       "    </tr>\n",
       "    <tr>\n",
       "      <th>179633</th>\n",
       "      <td>That's E</td>\n",
       "      <td>2015</td>\n",
       "      <td>Matthew Berke</td>\n",
       "      <td>actor</td>\n",
       "      <td>Patrick</td>\n",
       "      <td>3.0</td>\n",
       "    </tr>\n",
       "    <tr>\n",
       "      <th>...</th>\n",
       "      <td>...</td>\n",
       "      <td>...</td>\n",
       "      <td>...</td>\n",
       "      <td>...</td>\n",
       "      <td>...</td>\n",
       "      <td>...</td>\n",
       "    </tr>\n",
       "    <tr>\n",
       "      <th>3392090</th>\n",
       "      <td>Bhalobasa Off Route E</td>\n",
       "      <td>2012</td>\n",
       "      <td>Sudarshana Sengupta</td>\n",
       "      <td>actress</td>\n",
       "      <td>Shinjini</td>\n",
       "      <td>NaN</td>\n",
       "    </tr>\n",
       "    <tr>\n",
       "      <th>3395410</th>\n",
       "      <td>Wolfe with an E</td>\n",
       "      <td>2011</td>\n",
       "      <td>Cara Seymour</td>\n",
       "      <td>actress</td>\n",
       "      <td>Narrator</td>\n",
       "      <td>NaN</td>\n",
       "    </tr>\n",
       "    <tr>\n",
       "      <th>3396141</th>\n",
       "      <td>Sentinel 2099 SE</td>\n",
       "      <td>2016</td>\n",
       "      <td>Ariadne Shaffer</td>\n",
       "      <td>actress</td>\n",
       "      <td>Col. Tennison</td>\n",
       "      <td>NaN</td>\n",
       "    </tr>\n",
       "    <tr>\n",
       "      <th>3398944</th>\n",
       "      <td>10ml LOVE</td>\n",
       "      <td>2010</td>\n",
       "      <td>Tara Sharma</td>\n",
       "      <td>actress</td>\n",
       "      <td>Shweta Rai</td>\n",
       "      <td>NaN</td>\n",
       "    </tr>\n",
       "    <tr>\n",
       "      <th>3399508</th>\n",
       "      <td>Samyy luchshiy film 3-DE</td>\n",
       "      <td>2011</td>\n",
       "      <td>Valentina Sharykina</td>\n",
       "      <td>actress</td>\n",
       "      <td>Tamara Ivanovna</td>\n",
       "      <td>57.0</td>\n",
       "    </tr>\n",
       "    <tr>\n",
       "      <th>3400391</th>\n",
       "      <td>LOVE by CHANCE</td>\n",
       "      <td>2017</td>\n",
       "      <td>Mary (III) Shaw</td>\n",
       "      <td>actress</td>\n",
       "      <td>Marlene</td>\n",
       "      <td>NaN</td>\n",
       "    </tr>\n",
       "    <tr>\n",
       "      <th>3410019</th>\n",
       "      <td>Samyy luchshiy film 3-DE</td>\n",
       "      <td>2011</td>\n",
       "      <td>Polina Sibagatullina</td>\n",
       "      <td>actress</td>\n",
       "      <td>Selebriti</td>\n",
       "      <td>104.0</td>\n",
       "    </tr>\n",
       "    <tr>\n",
       "      <th>3450652</th>\n",
       "      <td>S.C.I.E.N.C.E</td>\n",
       "      <td>2004</td>\n",
       "      <td>Kali Stivison</td>\n",
       "      <td>actress</td>\n",
       "      <td>Liza</td>\n",
       "      <td>NaN</td>\n",
       "    </tr>\n",
       "    <tr>\n",
       "      <th>3466313</th>\n",
       "      <td>Samyy luchshiy film 3-DE</td>\n",
       "      <td>2011</td>\n",
       "      <td>Nadezhda Sysoeva</td>\n",
       "      <td>actress</td>\n",
       "      <td>Selebriti</td>\n",
       "      <td>105.0</td>\n",
       "    </tr>\n",
       "    <tr>\n",
       "      <th>3487176</th>\n",
       "      <td>All About E</td>\n",
       "      <td>2015</td>\n",
       "      <td>Melissa (IX) Thompson</td>\n",
       "      <td>actress</td>\n",
       "      <td>Club patron</td>\n",
       "      <td>NaN</td>\n",
       "    </tr>\n",
       "    <tr>\n",
       "      <th>3501218</th>\n",
       "      <td>Samyy luchshiy film 3-DE</td>\n",
       "      <td>2011</td>\n",
       "      <td>Natalya (II) Tretyakova</td>\n",
       "      <td>actress</td>\n",
       "      <td>Zhena</td>\n",
       "      <td>53.0</td>\n",
       "    </tr>\n",
       "    <tr>\n",
       "      <th>3506147</th>\n",
       "      <td>Samyy luchshiy film 3-DE</td>\n",
       "      <td>2011</td>\n",
       "      <td>Nadia Tumanova</td>\n",
       "      <td>actress</td>\n",
       "      <td>Selebriti</td>\n",
       "      <td>103.0</td>\n",
       "    </tr>\n",
       "    <tr>\n",
       "      <th>3512277</th>\n",
       "      <td>Samyy luchshiy film 3-DE</td>\n",
       "      <td>2011</td>\n",
       "      <td>Natalya Ungard</td>\n",
       "      <td>actress</td>\n",
       "      <td>Kontroler</td>\n",
       "      <td>63.0</td>\n",
       "    </tr>\n",
       "    <tr>\n",
       "      <th>3525726</th>\n",
       "      <td>LOVE by CHANCE</td>\n",
       "      <td>2017</td>\n",
       "      <td>Terri J. Vaughn</td>\n",
       "      <td>actress</td>\n",
       "      <td>Terri J Vaughn</td>\n",
       "      <td>NaN</td>\n",
       "    </tr>\n",
       "    <tr>\n",
       "      <th>3533118</th>\n",
       "      <td>Samyy luchshiy film 3-DE</td>\n",
       "      <td>2011</td>\n",
       "      <td>Mariya Viktorova</td>\n",
       "      <td>actress</td>\n",
       "      <td>Zhenshchina v parke</td>\n",
       "      <td>59.0</td>\n",
       "    </tr>\n",
       "    <tr>\n",
       "      <th>3536947</th>\n",
       "      <td>All About E</td>\n",
       "      <td>2015</td>\n",
       "      <td>Indigo Vivian</td>\n",
       "      <td>actress</td>\n",
       "      <td>Child (doorstep)</td>\n",
       "      <td>44.0</td>\n",
       "    </tr>\n",
       "    <tr>\n",
       "      <th>3539587</th>\n",
       "      <td>All About E</td>\n",
       "      <td>2015</td>\n",
       "      <td>Emma Von Ryan</td>\n",
       "      <td>actress</td>\n",
       "      <td>Club Patron</td>\n",
       "      <td>NaN</td>\n",
       "    </tr>\n",
       "    <tr>\n",
       "      <th>3541532</th>\n",
       "      <td>THE LINE</td>\n",
       "      <td>2017</td>\n",
       "      <td>Em?lia V?s?ryov?</td>\n",
       "      <td>actress</td>\n",
       "      <td>Anna Krajnakova</td>\n",
       "      <td>NaN</td>\n",
       "    </tr>\n",
       "    <tr>\n",
       "      <th>3542490</th>\n",
       "      <td>That's E</td>\n",
       "      <td>2015</td>\n",
       "      <td>Terri Wade</td>\n",
       "      <td>actress</td>\n",
       "      <td>Happy Customer</td>\n",
       "      <td>29.0</td>\n",
       "    </tr>\n",
       "    <tr>\n",
       "      <th>3544635</th>\n",
       "      <td>That's E</td>\n",
       "      <td>2015</td>\n",
       "      <td>Sierra Wales</td>\n",
       "      <td>actress</td>\n",
       "      <td>Shopping Customer</td>\n",
       "      <td>33.0</td>\n",
       "    </tr>\n",
       "    <tr>\n",
       "      <th>3553997</th>\n",
       "      <td>ZOE's SECURITY SERVICE</td>\n",
       "      <td>2017</td>\n",
       "      <td>Nikki Waterhouse</td>\n",
       "      <td>actress</td>\n",
       "      <td>Bethany Kaminski</td>\n",
       "      <td>2.0</td>\n",
       "    </tr>\n",
       "    <tr>\n",
       "      <th>3560583</th>\n",
       "      <td>All About E</td>\n",
       "      <td>2015</td>\n",
       "      <td>Rachelle (III) Wells</td>\n",
       "      <td>actress</td>\n",
       "      <td>Clubber</td>\n",
       "      <td>NaN</td>\n",
       "    </tr>\n",
       "    <tr>\n",
       "      <th>3568541</th>\n",
       "      <td>Sentinel 2099 SE</td>\n",
       "      <td>2016</td>\n",
       "      <td>Kerry Wieder</td>\n",
       "      <td>actress</td>\n",
       "      <td>Corporal Catherine McClean</td>\n",
       "      <td>NaN</td>\n",
       "    </tr>\n",
       "    <tr>\n",
       "      <th>3585950</th>\n",
       "      <td>Sentinel 2099 SE</td>\n",
       "      <td>2016</td>\n",
       "      <td>Christa Woomer</td>\n",
       "      <td>actress</td>\n",
       "      <td>Nurse</td>\n",
       "      <td>NaN</td>\n",
       "    </tr>\n",
       "    <tr>\n",
       "      <th>3594229</th>\n",
       "      <td>DOWNRANGE</td>\n",
       "      <td>2017</td>\n",
       "      <td>Alexa Yeames</td>\n",
       "      <td>actress</td>\n",
       "      <td>Sara</td>\n",
       "      <td>NaN</td>\n",
       "    </tr>\n",
       "    <tr>\n",
       "      <th>3596929</th>\n",
       "      <td>DOWNRANGE</td>\n",
       "      <td>2017</td>\n",
       "      <td>Ikumi Yoshimatsu</td>\n",
       "      <td>actress</td>\n",
       "      <td>Mother</td>\n",
       "      <td>NaN</td>\n",
       "    </tr>\n",
       "    <tr>\n",
       "      <th>3600514</th>\n",
       "      <td>Samyy luchshiy film 3-DE</td>\n",
       "      <td>2011</td>\n",
       "      <td>Elena Yushkevich</td>\n",
       "      <td>actress</td>\n",
       "      <td>Selebriti</td>\n",
       "      <td>102.0</td>\n",
       "    </tr>\n",
       "    <tr>\n",
       "      <th>3600861</th>\n",
       "      <td>Samyy luchshiy film 3-DE</td>\n",
       "      <td>2011</td>\n",
       "      <td>Irina Zabiyaka</td>\n",
       "      <td>actress</td>\n",
       "      <td>Selebriti</td>\n",
       "      <td>115.0</td>\n",
       "    </tr>\n",
       "    <tr>\n",
       "      <th>3609031</th>\n",
       "      <td>Wolfe with an E</td>\n",
       "      <td>2011</td>\n",
       "      <td>Olya Zueva</td>\n",
       "      <td>actress</td>\n",
       "      <td>Shopgirl</td>\n",
       "      <td>NaN</td>\n",
       "    </tr>\n",
       "    <tr>\n",
       "      <th>3609828</th>\n",
       "      <td>THE LINE</td>\n",
       "      <td>2017</td>\n",
       "      <td>Rimma Zyubina</td>\n",
       "      <td>actress</td>\n",
       "      <td>Hana Dacej</td>\n",
       "      <td>NaN</td>\n",
       "    </tr>\n",
       "  </tbody>\n",
       "</table>\n",
       "<p>433 rows × 6 columns</p>\n",
       "</div>"
      ],
      "text/plain": [
       "                            title  year                     name     type  \\\n",
       "3085     Samyy luchshiy film 3-DE  2011          Vitaliy Abdulov    actor   \n",
       "16703    Samyy luchshiy film 3-DE  2011      Vyacheslav Agashkin    actor   \n",
       "25320     Jammin' in the Middle E  2005        Marouf Alameddine    actor   \n",
       "46819                 All About E  2015       Cooper George Amai    actor   \n",
       "54883                    That's E  2015    Jeff (LVIII) Anderson    actor   \n",
       "59697    Samyy luchshiy film 3-DE  2011      Aleksandr Andrienko    actor   \n",
       "62374    Samyy luchshiy film 3-DE  2011           Aleksey Anikin    actor   \n",
       "73369             S E Q U E N C E  2015           Robert Arender    actor   \n",
       "82808    Samyy luchshiy film 3-DE  2011         Maksim Artamonov    actor   \n",
       "83488    Samyy luchshiy film 3-DE  2011         Zauri Artmeladze    actor   \n",
       "87077                    That's E  2015        Vasilios Asimakos    actor   \n",
       "102616     ZOE's SECURITY SERVICE  2017            Robert Babaji    actor   \n",
       "103226   Samyy luchshiy film 3-DE  2011          Nikolay Babenko    actor   \n",
       "106342         Charlie gegen ALLE  1963              Lloyd Bacon    actor   \n",
       "106343         Charlie gegen ALLE  1963              Lloyd Bacon    actor   \n",
       "106344         Charlie gegen ALLE  1963              Lloyd Bacon    actor   \n",
       "106345         Charlie gegen ALLE  1963              Lloyd Bacon    actor   \n",
       "106346         Charlie gegen ALLE  1963              Lloyd Bacon    actor   \n",
       "106347         Charlie gegen ALLE  1963              Lloyd Bacon    actor   \n",
       "106783   Samyy luchshiy film 3-DE  2011            Karen Badalov    actor   \n",
       "113923            S E Q U E N C E  2015        David Aaron Baker    actor   \n",
       "122206   Samyy luchshiy film 3-DE  2011         Aleksandr Baluev    actor   \n",
       "123834      Bhalobasa Off Route E  2012           Rahul Banerjee    actor   \n",
       "124711             LOVE by CHANCE  2017               Desi Banks    actor   \n",
       "131894   Samyy luchshiy film 3-DE  2011            Andrey Barkov    actor   \n",
       "157518                All About E  2015          Robert Bedbrook    actor   \n",
       "166764   Samyy luchshiy film 3-DE  2011             Sergey Belov    actor   \n",
       "167300   Samyy luchshiy film 3-DE  2011       Igor (III) Belyaev    actor   \n",
       "176794                All About E  2015            Paul Berenger    actor   \n",
       "179633                   That's E  2015            Matthew Berke    actor   \n",
       "...                           ...   ...                      ...      ...   \n",
       "3392090     Bhalobasa Off Route E  2012      Sudarshana Sengupta  actress   \n",
       "3395410           Wolfe with an E  2011             Cara Seymour  actress   \n",
       "3396141          Sentinel 2099 SE  2016          Ariadne Shaffer  actress   \n",
       "3398944                 10ml LOVE  2010              Tara Sharma  actress   \n",
       "3399508  Samyy luchshiy film 3-DE  2011      Valentina Sharykina  actress   \n",
       "3400391            LOVE by CHANCE  2017          Mary (III) Shaw  actress   \n",
       "3410019  Samyy luchshiy film 3-DE  2011     Polina Sibagatullina  actress   \n",
       "3450652             S.C.I.E.N.C.E  2004            Kali Stivison  actress   \n",
       "3466313  Samyy luchshiy film 3-DE  2011         Nadezhda Sysoeva  actress   \n",
       "3487176               All About E  2015    Melissa (IX) Thompson  actress   \n",
       "3501218  Samyy luchshiy film 3-DE  2011  Natalya (II) Tretyakova  actress   \n",
       "3506147  Samyy luchshiy film 3-DE  2011           Nadia Tumanova  actress   \n",
       "3512277  Samyy luchshiy film 3-DE  2011           Natalya Ungard  actress   \n",
       "3525726            LOVE by CHANCE  2017          Terri J. Vaughn  actress   \n",
       "3533118  Samyy luchshiy film 3-DE  2011         Mariya Viktorova  actress   \n",
       "3536947               All About E  2015            Indigo Vivian  actress   \n",
       "3539587               All About E  2015            Emma Von Ryan  actress   \n",
       "3541532                  THE LINE  2017         Em?lia V?s?ryov?  actress   \n",
       "3542490                  That's E  2015               Terri Wade  actress   \n",
       "3544635                  That's E  2015             Sierra Wales  actress   \n",
       "3553997    ZOE's SECURITY SERVICE  2017         Nikki Waterhouse  actress   \n",
       "3560583               All About E  2015     Rachelle (III) Wells  actress   \n",
       "3568541          Sentinel 2099 SE  2016             Kerry Wieder  actress   \n",
       "3585950          Sentinel 2099 SE  2016           Christa Woomer  actress   \n",
       "3594229                 DOWNRANGE  2017             Alexa Yeames  actress   \n",
       "3596929                 DOWNRANGE  2017         Ikumi Yoshimatsu  actress   \n",
       "3600514  Samyy luchshiy film 3-DE  2011         Elena Yushkevich  actress   \n",
       "3600861  Samyy luchshiy film 3-DE  2011           Irina Zabiyaka  actress   \n",
       "3609031           Wolfe with an E  2011               Olya Zueva  actress   \n",
       "3609828                  THE LINE  2017            Rimma Zyubina  actress   \n",
       "\n",
       "                          character      n  \n",
       "3085                         Prorab   66.0  \n",
       "16703                    Zhurnalist   75.0  \n",
       "25320                         Hakim    NaN  \n",
       "46819                       Club DJ   23.0  \n",
       "54883                    The Rapper   11.0  \n",
       "59697                         Mayor   10.0  \n",
       "62374                'Andrey Kavun'   41.0  \n",
       "73369                  Birthday Dad    NaN  \n",
       "82808                     Okhrannik   24.0  \n",
       "83488           'Nikita Sergeevich'   42.0  \n",
       "87077                          Sean    1.0  \n",
       "102616            Detlef Dos Santos    4.0  \n",
       "103226                      Paren 1   93.0  \n",
       "106342                 Second Thief    5.0  \n",
       "106343                Edna's Fianc?    5.0  \n",
       "106344                  Bank robber    5.0  \n",
       "106345      Second Sparring Partner    5.0  \n",
       "106346             Exerciser in Gym    5.0  \n",
       "106347                      Referee    5.0  \n",
       "106783                 Dyadya Venya   15.0  \n",
       "113923          Father James Martin    NaN  \n",
       "122206                Viktor Palych    4.0  \n",
       "123834                    Sidhartha    NaN  \n",
       "124711                        Dante    NaN  \n",
       "131894                       Alkash   31.0  \n",
       "157518                        Brett   21.0  \n",
       "166764                     Reporter   46.0  \n",
       "167300           Muzhchina v traure   54.0  \n",
       "176794                       George   29.0  \n",
       "179633                      Patrick    3.0  \n",
       "...                             ...    ...  \n",
       "3392090                    Shinjini    NaN  \n",
       "3395410                    Narrator    NaN  \n",
       "3396141               Col. Tennison    NaN  \n",
       "3398944                  Shweta Rai    NaN  \n",
       "3399508             Tamara Ivanovna   57.0  \n",
       "3400391                     Marlene    NaN  \n",
       "3410019                   Selebriti  104.0  \n",
       "3450652                        Liza    NaN  \n",
       "3466313                   Selebriti  105.0  \n",
       "3487176                 Club patron    NaN  \n",
       "3501218                       Zhena   53.0  \n",
       "3506147                   Selebriti  103.0  \n",
       "3512277                   Kontroler   63.0  \n",
       "3525726              Terri J Vaughn    NaN  \n",
       "3533118         Zhenshchina v parke   59.0  \n",
       "3536947            Child (doorstep)   44.0  \n",
       "3539587                 Club Patron    NaN  \n",
       "3541532             Anna Krajnakova    NaN  \n",
       "3542490              Happy Customer   29.0  \n",
       "3544635           Shopping Customer   33.0  \n",
       "3553997            Bethany Kaminski    2.0  \n",
       "3560583                     Clubber    NaN  \n",
       "3568541  Corporal Catherine McClean    NaN  \n",
       "3585950                       Nurse    NaN  \n",
       "3594229                        Sara    NaN  \n",
       "3596929                      Mother    NaN  \n",
       "3600514                   Selebriti  102.0  \n",
       "3600861                   Selebriti  115.0  \n",
       "3609031                    Shopgirl    NaN  \n",
       "3609828                  Hana Dacej    NaN  \n",
       "\n",
       "[433 rows x 6 columns]"
      ]
     },
     "execution_count": 10,
     "metadata": {},
     "output_type": "execute_result"
    }
   ],
   "source": [
    "cast[cast['title'].str.endswith(\"E\")]"
   ]
  },
  {
   "cell_type": "markdown",
   "metadata": {
    "collapsed": true
   },
   "source": [
    "### How many movies are listed in the titles dataframe?"
   ]
  },
  {
   "cell_type": "code",
   "execution_count": 5,
   "metadata": {},
   "outputs": [
    {
     "data": {
      "text/plain": [
       "3611212"
      ]
     },
     "execution_count": 5,
     "metadata": {},
     "output_type": "execute_result"
    }
   ],
   "source": [
    "cast.title.count()"
   ]
  },
  {
   "cell_type": "markdown",
   "metadata": {
    "collapsed": true
   },
   "source": [
    "### What are the earliest two films listed in the titles dataframe?"
   ]
  },
  {
   "cell_type": "code",
   "execution_count": 77,
   "metadata": {},
   "outputs": [
    {
     "data": {
      "text/plain": [
       "2800939    Gnome Alone\n",
       "3592140    Fetish Trap\n",
       "Name: title, dtype: object"
      ]
     },
     "execution_count": 77,
     "metadata": {},
     "output_type": "execute_result"
    }
   ],
   "source": [
    "cast.sort_values('year',ascending=False).head(2)['title']"
   ]
  },
  {
   "cell_type": "markdown",
   "metadata": {
    "collapsed": true
   },
   "source": [
    "### How many movies have the title \"Hamlet\"?"
   ]
  },
  {
   "cell_type": "code",
   "execution_count": 61,
   "metadata": {},
   "outputs": [],
   "source": [
    "y=cast[cast.title=='Hamlet'].groupby(['title']).size()"
   ]
  },
  {
   "cell_type": "code",
   "execution_count": 62,
   "metadata": {},
   "outputs": [
    {
     "data": {
      "text/plain": [
       "title\n",
       "Hamlet    313\n",
       "dtype: int64"
      ]
     },
     "execution_count": 62,
     "metadata": {},
     "output_type": "execute_result"
    }
   ],
   "source": [
    "y"
   ]
  },
  {
   "cell_type": "markdown",
   "metadata": {
    "collapsed": true
   },
   "source": [
    "### How many movies are titled \"North by Northwest\"?"
   ]
  },
  {
   "cell_type": "code",
   "execution_count": 68,
   "metadata": {},
   "outputs": [],
   "source": [
    "p=cast[cast.title=='North by Northwest'].groupby(['title']).size()"
   ]
  },
  {
   "cell_type": "code",
   "execution_count": 69,
   "metadata": {},
   "outputs": [
    {
     "data": {
      "text/plain": [
       "title\n",
       "North by Northwest    112\n",
       "dtype: int64"
      ]
     },
     "execution_count": 69,
     "metadata": {},
     "output_type": "execute_result"
    }
   ],
   "source": [
    "p"
   ]
  },
  {
   "cell_type": "markdown",
   "metadata": {
    "collapsed": true
   },
   "source": [
    "### When was the first movie titled \"Hamlet\" made?"
   ]
  },
  {
   "cell_type": "code",
   "execution_count": 92,
   "metadata": {},
   "outputs": [],
   "source": [
    "y=cast[cast.title=='Hamlet'].sort_values('year',ascending=False).head(1)"
   ]
  },
  {
   "cell_type": "code",
   "execution_count": 93,
   "metadata": {},
   "outputs": [
    {
     "data": {
      "text/html": [
       "<div>\n",
       "<style scoped>\n",
       "    .dataframe tbody tr th:only-of-type {\n",
       "        vertical-align: middle;\n",
       "    }\n",
       "\n",
       "    .dataframe tbody tr th {\n",
       "        vertical-align: top;\n",
       "    }\n",
       "\n",
       "    .dataframe thead th {\n",
       "        text-align: right;\n",
       "    }\n",
       "</style>\n",
       "<table border=\"1\" class=\"dataframe\">\n",
       "  <thead>\n",
       "    <tr style=\"text-align: right;\">\n",
       "      <th></th>\n",
       "      <th>title</th>\n",
       "      <th>year</th>\n",
       "      <th>name</th>\n",
       "      <th>type</th>\n",
       "      <th>character</th>\n",
       "      <th>n</th>\n",
       "    </tr>\n",
       "  </thead>\n",
       "  <tbody>\n",
       "    <tr>\n",
       "      <th>1592747</th>\n",
       "      <td>Hamlet</td>\n",
       "      <td>2015</td>\n",
       "      <td>Tachia Newall</td>\n",
       "      <td>actor</td>\n",
       "      <td>Priest</td>\n",
       "      <td>13.0</td>\n",
       "    </tr>\n",
       "  </tbody>\n",
       "</table>\n",
       "</div>"
      ],
      "text/plain": [
       "          title  year           name   type character     n\n",
       "1592747  Hamlet  2015  Tachia Newall  actor    Priest  13.0"
      ]
     },
     "execution_count": 93,
     "metadata": {},
     "output_type": "execute_result"
    }
   ],
   "source": [
    "y"
   ]
  },
  {
   "cell_type": "markdown",
   "metadata": {
    "collapsed": true
   },
   "source": [
    "### List all of the \"Treasure Island\" movies from earliest to most recent."
   ]
  },
  {
   "cell_type": "code",
   "execution_count": 99,
   "metadata": {},
   "outputs": [],
   "source": [
    "TL=cast[cast.title=='Treasure Island'].sort_values('year',ascending=False)"
   ]
  },
  {
   "cell_type": "code",
   "execution_count": 100,
   "metadata": {},
   "outputs": [
    {
     "data": {
      "text/html": [
       "<div>\n",
       "<style scoped>\n",
       "    .dataframe tbody tr th:only-of-type {\n",
       "        vertical-align: middle;\n",
       "    }\n",
       "\n",
       "    .dataframe tbody tr th {\n",
       "        vertical-align: top;\n",
       "    }\n",
       "\n",
       "    .dataframe thead th {\n",
       "        text-align: right;\n",
       "    }\n",
       "</style>\n",
       "<table border=\"1\" class=\"dataframe\">\n",
       "  <thead>\n",
       "    <tr style=\"text-align: right;\">\n",
       "      <th></th>\n",
       "      <th>title</th>\n",
       "      <th>year</th>\n",
       "      <th>name</th>\n",
       "      <th>type</th>\n",
       "      <th>character</th>\n",
       "      <th>n</th>\n",
       "    </tr>\n",
       "  </thead>\n",
       "  <tbody>\n",
       "    <tr>\n",
       "      <th>1959741</th>\n",
       "      <td>Treasure Island</td>\n",
       "      <td>1999</td>\n",
       "      <td>Richard Schave</td>\n",
       "      <td>actor</td>\n",
       "      <td>Man</td>\n",
       "      <td>21.0</td>\n",
       "    </tr>\n",
       "    <tr>\n",
       "      <th>2660575</th>\n",
       "      <td>Treasure Island</td>\n",
       "      <td>1999</td>\n",
       "      <td>Nigel (II) Cox</td>\n",
       "      <td>actress</td>\n",
       "      <td>Enid</td>\n",
       "      <td>22.0</td>\n",
       "    </tr>\n",
       "    <tr>\n",
       "      <th>969021</th>\n",
       "      <td>Treasure Island</td>\n",
       "      <td>1999</td>\n",
       "      <td>George Hirschmann</td>\n",
       "      <td>actor</td>\n",
       "      <td>Admiral</td>\n",
       "      <td>12.0</td>\n",
       "    </tr>\n",
       "    <tr>\n",
       "      <th>934507</th>\n",
       "      <td>Treasure Island</td>\n",
       "      <td>1999</td>\n",
       "      <td>Pat Healy</td>\n",
       "      <td>actor</td>\n",
       "      <td>Clark</td>\n",
       "      <td>4.0</td>\n",
       "    </tr>\n",
       "    <tr>\n",
       "      <th>1375015</th>\n",
       "      <td>Treasure Island</td>\n",
       "      <td>1999</td>\n",
       "      <td>J.P. Manoux</td>\n",
       "      <td>actor</td>\n",
       "      <td>Officer Hughes</td>\n",
       "      <td>18.0</td>\n",
       "    </tr>\n",
       "    <tr>\n",
       "      <th>880460</th>\n",
       "      <td>Treasure Island</td>\n",
       "      <td>1999</td>\n",
       "      <td>Rio Hackford</td>\n",
       "      <td>actor</td>\n",
       "      <td>Hans</td>\n",
       "      <td>23.0</td>\n",
       "    </tr>\n",
       "    <tr>\n",
       "      <th>872384</th>\n",
       "      <td>Treasure Island</td>\n",
       "      <td>1999</td>\n",
       "      <td>Paul Gutrecht</td>\n",
       "      <td>actor</td>\n",
       "      <td>Some Guy</td>\n",
       "      <td>20.0</td>\n",
       "    </tr>\n",
       "    <tr>\n",
       "      <th>1637661</th>\n",
       "      <td>Treasure Island</td>\n",
       "      <td>1999</td>\n",
       "      <td>Nick Offerman</td>\n",
       "      <td>actor</td>\n",
       "      <td>Samuel</td>\n",
       "      <td>2.0</td>\n",
       "    </tr>\n",
       "    <tr>\n",
       "      <th>1797264</th>\n",
       "      <td>Treasure Island</td>\n",
       "      <td>1999</td>\n",
       "      <td>Victor Raider-Wexler</td>\n",
       "      <td>actor</td>\n",
       "      <td>Samowitz</td>\n",
       "      <td>10.0</td>\n",
       "    </tr>\n",
       "    <tr>\n",
       "      <th>1869989</th>\n",
       "      <td>Treasure Island</td>\n",
       "      <td>1999</td>\n",
       "      <td>Scot Thomas Robinson</td>\n",
       "      <td>actor</td>\n",
       "      <td>Jimmy</td>\n",
       "      <td>11.0</td>\n",
       "    </tr>\n",
       "    <tr>\n",
       "      <th>589900</th>\n",
       "      <td>Treasure Island</td>\n",
       "      <td>1999</td>\n",
       "      <td>Jamie Donovan</td>\n",
       "      <td>actor</td>\n",
       "      <td>John</td>\n",
       "      <td>21.0</td>\n",
       "    </tr>\n",
       "    <tr>\n",
       "      <th>1975279</th>\n",
       "      <td>Treasure Island</td>\n",
       "      <td>1999</td>\n",
       "      <td>Dolph Scott</td>\n",
       "      <td>actor</td>\n",
       "      <td>Parker</td>\n",
       "      <td>11.0</td>\n",
       "    </tr>\n",
       "    <tr>\n",
       "      <th>445745</th>\n",
       "      <td>Treasure Island</td>\n",
       "      <td>1999</td>\n",
       "      <td>Becket Cook</td>\n",
       "      <td>actor</td>\n",
       "      <td>The Gent</td>\n",
       "      <td>13.0</td>\n",
       "    </tr>\n",
       "    <tr>\n",
       "      <th>307749</th>\n",
       "      <td>Treasure Island</td>\n",
       "      <td>1999</td>\n",
       "      <td>Bob Byington</td>\n",
       "      <td>actor</td>\n",
       "      <td>Thomas</td>\n",
       "      <td>12.0</td>\n",
       "    </tr>\n",
       "    <tr>\n",
       "      <th>2420089</th>\n",
       "      <td>Treasure Island</td>\n",
       "      <td>1999</td>\n",
       "      <td>Caveh Zahedi</td>\n",
       "      <td>actor</td>\n",
       "      <td>Harold</td>\n",
       "      <td>9.0</td>\n",
       "    </tr>\n",
       "    <tr>\n",
       "      <th>210668</th>\n",
       "      <td>Treasure Island</td>\n",
       "      <td>1999</td>\n",
       "      <td>Jonah Blechman</td>\n",
       "      <td>actor</td>\n",
       "      <td>The Body</td>\n",
       "      <td>3.0</td>\n",
       "    </tr>\n",
       "    <tr>\n",
       "      <th>1161085</th>\n",
       "      <td>Treasure Island</td>\n",
       "      <td>1999</td>\n",
       "      <td>Scott King</td>\n",
       "      <td>actor</td>\n",
       "      <td>Walter</td>\n",
       "      <td>15.0</td>\n",
       "    </tr>\n",
       "    <tr>\n",
       "      <th>2865358</th>\n",
       "      <td>Treasure Island</td>\n",
       "      <td>1999</td>\n",
       "      <td>Daisy Hall</td>\n",
       "      <td>actress</td>\n",
       "      <td>Penny</td>\n",
       "      <td>8.0</td>\n",
       "    </tr>\n",
       "    <tr>\n",
       "      <th>3195608</th>\n",
       "      <td>Treasure Island</td>\n",
       "      <td>1999</td>\n",
       "      <td>Suzy Nakamura</td>\n",
       "      <td>actress</td>\n",
       "      <td>Yo-Ji</td>\n",
       "      <td>5.0</td>\n",
       "    </tr>\n",
       "    <tr>\n",
       "      <th>3507587</th>\n",
       "      <td>Treasure Island</td>\n",
       "      <td>1999</td>\n",
       "      <td>Guinevere Turner</td>\n",
       "      <td>actress</td>\n",
       "      <td>Evelyn</td>\n",
       "      <td>14.0</td>\n",
       "    </tr>\n",
       "    <tr>\n",
       "      <th>3415912</th>\n",
       "      <td>Treasure Island</td>\n",
       "      <td>1999</td>\n",
       "      <td>Rachel Singer</td>\n",
       "      <td>actress</td>\n",
       "      <td>Anna</td>\n",
       "      <td>6.0</td>\n",
       "    </tr>\n",
       "    <tr>\n",
       "      <th>2931880</th>\n",
       "      <td>Treasure Island</td>\n",
       "      <td>1999</td>\n",
       "      <td>Stephanie Ittleson</td>\n",
       "      <td>actress</td>\n",
       "      <td>Stella</td>\n",
       "      <td>7.0</td>\n",
       "    </tr>\n",
       "    <tr>\n",
       "      <th>3245250</th>\n",
       "      <td>Treasure Island</td>\n",
       "      <td>1999</td>\n",
       "      <td>Lisa Papineau</td>\n",
       "      <td>actress</td>\n",
       "      <td>Diedre</td>\n",
       "      <td>19.0</td>\n",
       "    </tr>\n",
       "    <tr>\n",
       "      <th>114904</th>\n",
       "      <td>Treasure Island</td>\n",
       "      <td>1999</td>\n",
       "      <td>Lance (II) Baker</td>\n",
       "      <td>actor</td>\n",
       "      <td>Frank</td>\n",
       "      <td>1.0</td>\n",
       "    </tr>\n",
       "    <tr>\n",
       "      <th>1964780</th>\n",
       "      <td>Treasure Island</td>\n",
       "      <td>1985</td>\n",
       "      <td>Charles Schmitt</td>\n",
       "      <td>actor</td>\n",
       "      <td>The blind man</td>\n",
       "      <td>12.0</td>\n",
       "    </tr>\n",
       "    <tr>\n",
       "      <th>1337318</th>\n",
       "      <td>Treasure Island</td>\n",
       "      <td>1985</td>\n",
       "      <td>Jean-Pierre L?aud</td>\n",
       "      <td>actor</td>\n",
       "      <td>Midas</td>\n",
       "      <td>4.0</td>\n",
       "    </tr>\n",
       "    <tr>\n",
       "      <th>1762501</th>\n",
       "      <td>Treasure Island</td>\n",
       "      <td>1985</td>\n",
       "      <td>Melvil Poupaud</td>\n",
       "      <td>actor</td>\n",
       "      <td>Jim Hawkins</td>\n",
       "      <td>14.0</td>\n",
       "    </tr>\n",
       "    <tr>\n",
       "      <th>76643</th>\n",
       "      <td>Treasure Island</td>\n",
       "      <td>1985</td>\n",
       "      <td>Pedro Armend?riz Jr.</td>\n",
       "      <td>actor</td>\n",
       "      <td>Mendoza</td>\n",
       "      <td>11.0</td>\n",
       "    </tr>\n",
       "    <tr>\n",
       "      <th>2967681</th>\n",
       "      <td>Treasure Island</td>\n",
       "      <td>1985</td>\n",
       "      <td>Anna Karina</td>\n",
       "      <td>actress</td>\n",
       "      <td>Mother</td>\n",
       "      <td>3.0</td>\n",
       "    </tr>\n",
       "    <tr>\n",
       "      <th>1157446</th>\n",
       "      <td>Treasure Island</td>\n",
       "      <td>1985</td>\n",
       "      <td>Jeffrey Kime</td>\n",
       "      <td>actor</td>\n",
       "      <td>Timothy (The Squire)</td>\n",
       "      <td>9.0</td>\n",
       "    </tr>\n",
       "    <tr>\n",
       "      <th>...</th>\n",
       "      <td>...</td>\n",
       "      <td>...</td>\n",
       "      <td>...</td>\n",
       "      <td>...</td>\n",
       "      <td>...</td>\n",
       "      <td>...</td>\n",
       "    </tr>\n",
       "    <tr>\n",
       "      <th>590660</th>\n",
       "      <td>Treasure Island</td>\n",
       "      <td>1934</td>\n",
       "      <td>Billy Dooley</td>\n",
       "      <td>actor</td>\n",
       "      <td>Pirate</td>\n",
       "      <td>NaN</td>\n",
       "    </tr>\n",
       "    <tr>\n",
       "      <th>598760</th>\n",
       "      <td>Treasure Island</td>\n",
       "      <td>1934</td>\n",
       "      <td>Vernon Downing</td>\n",
       "      <td>actor</td>\n",
       "      <td>Boy at Inn</td>\n",
       "      <td>NaN</td>\n",
       "    </tr>\n",
       "    <tr>\n",
       "      <th>611081</th>\n",
       "      <td>Treasure Island</td>\n",
       "      <td>1934</td>\n",
       "      <td>Douglass Dumbrille</td>\n",
       "      <td>actor</td>\n",
       "      <td>Pirate of the Spanish Main</td>\n",
       "      <td>11.0</td>\n",
       "    </tr>\n",
       "    <tr>\n",
       "      <th>2006457</th>\n",
       "      <td>Treasure Island</td>\n",
       "      <td>1920</td>\n",
       "      <td>Thomas William Sheffield</td>\n",
       "      <td>actor</td>\n",
       "      <td>Man going over Plank</td>\n",
       "      <td>NaN</td>\n",
       "    </tr>\n",
       "    <tr>\n",
       "      <th>2037631</th>\n",
       "      <td>Treasure Island</td>\n",
       "      <td>1920</td>\n",
       "      <td>Joseph Singleton</td>\n",
       "      <td>actor</td>\n",
       "      <td>Israel Hands</td>\n",
       "      <td>7.0</td>\n",
       "    </tr>\n",
       "    <tr>\n",
       "      <th>977651</th>\n",
       "      <td>Treasure Island</td>\n",
       "      <td>1920</td>\n",
       "      <td>Harry Holden</td>\n",
       "      <td>actor</td>\n",
       "      <td>Capt. Smollett</td>\n",
       "      <td>9.0</td>\n",
       "    </tr>\n",
       "    <tr>\n",
       "      <th>1358420</th>\n",
       "      <td>Treasure Island</td>\n",
       "      <td>1920</td>\n",
       "      <td>Charles Hill Mailes</td>\n",
       "      <td>actor</td>\n",
       "      <td>Dr. Livesey</td>\n",
       "      <td>11.0</td>\n",
       "    </tr>\n",
       "    <tr>\n",
       "      <th>3142561</th>\n",
       "      <td>Treasure Island</td>\n",
       "      <td>1920</td>\n",
       "      <td>Josie Melville</td>\n",
       "      <td>actress</td>\n",
       "      <td>Mrs. Hawkins</td>\n",
       "      <td>2.0</td>\n",
       "    </tr>\n",
       "    <tr>\n",
       "      <th>3116605</th>\n",
       "      <td>Treasure Island</td>\n",
       "      <td>1920</td>\n",
       "      <td>Shirley Mason</td>\n",
       "      <td>actress</td>\n",
       "      <td>Jim Hawkins</td>\n",
       "      <td>1.0</td>\n",
       "    </tr>\n",
       "    <tr>\n",
       "      <th>2088694</th>\n",
       "      <td>Treasure Island</td>\n",
       "      <td>1920</td>\n",
       "      <td>Eli Stanton</td>\n",
       "      <td>actor</td>\n",
       "      <td>Pirate</td>\n",
       "      <td>NaN</td>\n",
       "    </tr>\n",
       "    <tr>\n",
       "      <th>1638400</th>\n",
       "      <td>Treasure Island</td>\n",
       "      <td>1920</td>\n",
       "      <td>Charles Ogle</td>\n",
       "      <td>actor</td>\n",
       "      <td>Long John Silver</td>\n",
       "      <td>6.0</td>\n",
       "    </tr>\n",
       "    <tr>\n",
       "      <th>1516354</th>\n",
       "      <td>Treasure Island</td>\n",
       "      <td>1920</td>\n",
       "      <td>Bull Montana</td>\n",
       "      <td>actor</td>\n",
       "      <td>Morgan</td>\n",
       "      <td>8.0</td>\n",
       "    </tr>\n",
       "    <tr>\n",
       "      <th>374597</th>\n",
       "      <td>Treasure Island</td>\n",
       "      <td>1920</td>\n",
       "      <td>Lon Chaney</td>\n",
       "      <td>actor</td>\n",
       "      <td>Blind Pew</td>\n",
       "      <td>5.0</td>\n",
       "    </tr>\n",
       "    <tr>\n",
       "      <th>2164752</th>\n",
       "      <td>Treasure Island</td>\n",
       "      <td>1920</td>\n",
       "      <td>Wilton Taylor</td>\n",
       "      <td>actor</td>\n",
       "      <td>Black Dog</td>\n",
       "      <td>4.0</td>\n",
       "    </tr>\n",
       "    <tr>\n",
       "      <th>374598</th>\n",
       "      <td>Treasure Island</td>\n",
       "      <td>1920</td>\n",
       "      <td>Lon Chaney</td>\n",
       "      <td>actor</td>\n",
       "      <td>Merry</td>\n",
       "      <td>5.0</td>\n",
       "    </tr>\n",
       "    <tr>\n",
       "      <th>537825</th>\n",
       "      <td>Treasure Island</td>\n",
       "      <td>1920</td>\n",
       "      <td>Sydney Deane</td>\n",
       "      <td>actor</td>\n",
       "      <td>Squire Trelawney</td>\n",
       "      <td>10.0</td>\n",
       "    </tr>\n",
       "    <tr>\n",
       "      <th>700670</th>\n",
       "      <td>Treasure Island</td>\n",
       "      <td>1920</td>\n",
       "      <td>Al W. Filson</td>\n",
       "      <td>actor</td>\n",
       "      <td>Bill Bones</td>\n",
       "      <td>3.0</td>\n",
       "    </tr>\n",
       "    <tr>\n",
       "      <th>339256</th>\n",
       "      <td>Treasure Island</td>\n",
       "      <td>1918</td>\n",
       "      <td>Francis Carpenter</td>\n",
       "      <td>actor</td>\n",
       "      <td>Jim Hawkins</td>\n",
       "      <td>1.0</td>\n",
       "    </tr>\n",
       "    <tr>\n",
       "      <th>3553298</th>\n",
       "      <td>Treasure Island</td>\n",
       "      <td>1918</td>\n",
       "      <td>Eleanor Washington</td>\n",
       "      <td>actress</td>\n",
       "      <td>Prologue Player</td>\n",
       "      <td>NaN</td>\n",
       "    </tr>\n",
       "    <tr>\n",
       "      <th>1946119</th>\n",
       "      <td>Treasure Island</td>\n",
       "      <td>1918</td>\n",
       "      <td>Lewis Sargent</td>\n",
       "      <td>actor</td>\n",
       "      <td>Ben Gunn</td>\n",
       "      <td>5.0</td>\n",
       "    </tr>\n",
       "    <tr>\n",
       "      <th>1261579</th>\n",
       "      <td>Treasure Island</td>\n",
       "      <td>1918</td>\n",
       "      <td>Raymond Lee</td>\n",
       "      <td>actor</td>\n",
       "      <td>Bit Role</td>\n",
       "      <td>NaN</td>\n",
       "    </tr>\n",
       "    <tr>\n",
       "      <th>1291387</th>\n",
       "      <td>Treasure Island</td>\n",
       "      <td>1918</td>\n",
       "      <td>Elmo Lincoln</td>\n",
       "      <td>actor</td>\n",
       "      <td>Prologue Player</td>\n",
       "      <td>NaN</td>\n",
       "    </tr>\n",
       "    <tr>\n",
       "      <th>909157</th>\n",
       "      <td>Treasure Island</td>\n",
       "      <td>1918</td>\n",
       "      <td>Edwin Harley</td>\n",
       "      <td>actor</td>\n",
       "      <td>Prologue Player</td>\n",
       "      <td>NaN</td>\n",
       "    </tr>\n",
       "    <tr>\n",
       "      <th>1473574</th>\n",
       "      <td>Treasure Island</td>\n",
       "      <td>1918</td>\n",
       "      <td>Buddy Messinger</td>\n",
       "      <td>actor</td>\n",
       "      <td>Captain Smolett</td>\n",
       "      <td>6.0</td>\n",
       "    </tr>\n",
       "    <tr>\n",
       "      <th>3298306</th>\n",
       "      <td>Treasure Island</td>\n",
       "      <td>1918</td>\n",
       "      <td>Violet Radcliffe</td>\n",
       "      <td>actress</td>\n",
       "      <td>Long John Silver</td>\n",
       "      <td>3.0</td>\n",
       "    </tr>\n",
       "    <tr>\n",
       "      <th>830114</th>\n",
       "      <td>Treasure Island</td>\n",
       "      <td>1918</td>\n",
       "      <td>Charles Gorman</td>\n",
       "      <td>actor</td>\n",
       "      <td>Prologue Player</td>\n",
       "      <td>NaN</td>\n",
       "    </tr>\n",
       "    <tr>\n",
       "      <th>840745</th>\n",
       "      <td>Treasure Island</td>\n",
       "      <td>1918</td>\n",
       "      <td>Joe Grant</td>\n",
       "      <td>actor</td>\n",
       "      <td>Undetermined child role</td>\n",
       "      <td>NaN</td>\n",
       "    </tr>\n",
       "    <tr>\n",
       "      <th>2654214</th>\n",
       "      <td>Treasure Island</td>\n",
       "      <td>1918</td>\n",
       "      <td>Virginia Lee Corbin</td>\n",
       "      <td>actress</td>\n",
       "      <td>Louise Trelawney</td>\n",
       "      <td>2.0</td>\n",
       "    </tr>\n",
       "    <tr>\n",
       "      <th>1715014</th>\n",
       "      <td>Treasure Island</td>\n",
       "      <td>1918</td>\n",
       "      <td>Lloyd Perl</td>\n",
       "      <td>actor</td>\n",
       "      <td>Black Dog</td>\n",
       "      <td>4.0</td>\n",
       "    </tr>\n",
       "    <tr>\n",
       "      <th>1417884</th>\n",
       "      <td>Treasure Island</td>\n",
       "      <td>1918</td>\n",
       "      <td>Herschel Mayall</td>\n",
       "      <td>actor</td>\n",
       "      <td>Prologue Player</td>\n",
       "      <td>NaN</td>\n",
       "    </tr>\n",
       "  </tbody>\n",
       "</table>\n",
       "<p>190 rows × 6 columns</p>\n",
       "</div>"
      ],
      "text/plain": [
       "                   title  year                      name     type  \\\n",
       "1959741  Treasure Island  1999            Richard Schave    actor   \n",
       "2660575  Treasure Island  1999            Nigel (II) Cox  actress   \n",
       "969021   Treasure Island  1999         George Hirschmann    actor   \n",
       "934507   Treasure Island  1999                 Pat Healy    actor   \n",
       "1375015  Treasure Island  1999               J.P. Manoux    actor   \n",
       "880460   Treasure Island  1999              Rio Hackford    actor   \n",
       "872384   Treasure Island  1999             Paul Gutrecht    actor   \n",
       "1637661  Treasure Island  1999             Nick Offerman    actor   \n",
       "1797264  Treasure Island  1999      Victor Raider-Wexler    actor   \n",
       "1869989  Treasure Island  1999      Scot Thomas Robinson    actor   \n",
       "589900   Treasure Island  1999             Jamie Donovan    actor   \n",
       "1975279  Treasure Island  1999               Dolph Scott    actor   \n",
       "445745   Treasure Island  1999               Becket Cook    actor   \n",
       "307749   Treasure Island  1999              Bob Byington    actor   \n",
       "2420089  Treasure Island  1999              Caveh Zahedi    actor   \n",
       "210668   Treasure Island  1999            Jonah Blechman    actor   \n",
       "1161085  Treasure Island  1999                Scott King    actor   \n",
       "2865358  Treasure Island  1999                Daisy Hall  actress   \n",
       "3195608  Treasure Island  1999             Suzy Nakamura  actress   \n",
       "3507587  Treasure Island  1999          Guinevere Turner  actress   \n",
       "3415912  Treasure Island  1999             Rachel Singer  actress   \n",
       "2931880  Treasure Island  1999        Stephanie Ittleson  actress   \n",
       "3245250  Treasure Island  1999             Lisa Papineau  actress   \n",
       "114904   Treasure Island  1999          Lance (II) Baker    actor   \n",
       "1964780  Treasure Island  1985           Charles Schmitt    actor   \n",
       "1337318  Treasure Island  1985         Jean-Pierre L?aud    actor   \n",
       "1762501  Treasure Island  1985            Melvil Poupaud    actor   \n",
       "76643    Treasure Island  1985      Pedro Armend?riz Jr.    actor   \n",
       "2967681  Treasure Island  1985               Anna Karina  actress   \n",
       "1157446  Treasure Island  1985              Jeffrey Kime    actor   \n",
       "...                  ...   ...                       ...      ...   \n",
       "590660   Treasure Island  1934              Billy Dooley    actor   \n",
       "598760   Treasure Island  1934            Vernon Downing    actor   \n",
       "611081   Treasure Island  1934        Douglass Dumbrille    actor   \n",
       "2006457  Treasure Island  1920  Thomas William Sheffield    actor   \n",
       "2037631  Treasure Island  1920          Joseph Singleton    actor   \n",
       "977651   Treasure Island  1920              Harry Holden    actor   \n",
       "1358420  Treasure Island  1920       Charles Hill Mailes    actor   \n",
       "3142561  Treasure Island  1920            Josie Melville  actress   \n",
       "3116605  Treasure Island  1920             Shirley Mason  actress   \n",
       "2088694  Treasure Island  1920               Eli Stanton    actor   \n",
       "1638400  Treasure Island  1920              Charles Ogle    actor   \n",
       "1516354  Treasure Island  1920              Bull Montana    actor   \n",
       "374597   Treasure Island  1920                Lon Chaney    actor   \n",
       "2164752  Treasure Island  1920             Wilton Taylor    actor   \n",
       "374598   Treasure Island  1920                Lon Chaney    actor   \n",
       "537825   Treasure Island  1920              Sydney Deane    actor   \n",
       "700670   Treasure Island  1920              Al W. Filson    actor   \n",
       "339256   Treasure Island  1918         Francis Carpenter    actor   \n",
       "3553298  Treasure Island  1918        Eleanor Washington  actress   \n",
       "1946119  Treasure Island  1918             Lewis Sargent    actor   \n",
       "1261579  Treasure Island  1918               Raymond Lee    actor   \n",
       "1291387  Treasure Island  1918              Elmo Lincoln    actor   \n",
       "909157   Treasure Island  1918              Edwin Harley    actor   \n",
       "1473574  Treasure Island  1918           Buddy Messinger    actor   \n",
       "3298306  Treasure Island  1918          Violet Radcliffe  actress   \n",
       "830114   Treasure Island  1918            Charles Gorman    actor   \n",
       "840745   Treasure Island  1918                 Joe Grant    actor   \n",
       "2654214  Treasure Island  1918       Virginia Lee Corbin  actress   \n",
       "1715014  Treasure Island  1918                Lloyd Perl    actor   \n",
       "1417884  Treasure Island  1918           Herschel Mayall    actor   \n",
       "\n",
       "                          character     n  \n",
       "1959741                         Man  21.0  \n",
       "2660575                        Enid  22.0  \n",
       "969021                      Admiral  12.0  \n",
       "934507                        Clark   4.0  \n",
       "1375015              Officer Hughes  18.0  \n",
       "880460                         Hans  23.0  \n",
       "872384                     Some Guy  20.0  \n",
       "1637661                      Samuel   2.0  \n",
       "1797264                    Samowitz  10.0  \n",
       "1869989                       Jimmy  11.0  \n",
       "589900                         John  21.0  \n",
       "1975279                      Parker  11.0  \n",
       "445745                     The Gent  13.0  \n",
       "307749                       Thomas  12.0  \n",
       "2420089                      Harold   9.0  \n",
       "210668                     The Body   3.0  \n",
       "1161085                      Walter  15.0  \n",
       "2865358                       Penny   8.0  \n",
       "3195608                       Yo-Ji   5.0  \n",
       "3507587                      Evelyn  14.0  \n",
       "3415912                        Anna   6.0  \n",
       "2931880                      Stella   7.0  \n",
       "3245250                      Diedre  19.0  \n",
       "114904                        Frank   1.0  \n",
       "1964780               The blind man  12.0  \n",
       "1337318                       Midas   4.0  \n",
       "1762501                 Jim Hawkins  14.0  \n",
       "76643                       Mendoza  11.0  \n",
       "2967681                      Mother   3.0  \n",
       "1157446        Timothy (The Squire)   9.0  \n",
       "...                             ...   ...  \n",
       "590660                       Pirate   NaN  \n",
       "598760                   Boy at Inn   NaN  \n",
       "611081   Pirate of the Spanish Main  11.0  \n",
       "2006457        Man going over Plank   NaN  \n",
       "2037631                Israel Hands   7.0  \n",
       "977651               Capt. Smollett   9.0  \n",
       "1358420                 Dr. Livesey  11.0  \n",
       "3142561                Mrs. Hawkins   2.0  \n",
       "3116605                 Jim Hawkins   1.0  \n",
       "2088694                      Pirate   NaN  \n",
       "1638400            Long John Silver   6.0  \n",
       "1516354                      Morgan   8.0  \n",
       "374597                   Blind Pew    5.0  \n",
       "2164752                   Black Dog   4.0  \n",
       "374598                        Merry   5.0  \n",
       "537825             Squire Trelawney  10.0  \n",
       "700670                   Bill Bones   3.0  \n",
       "339256                  Jim Hawkins   1.0  \n",
       "3553298             Prologue Player   NaN  \n",
       "1946119                    Ben Gunn   5.0  \n",
       "1261579                    Bit Role   NaN  \n",
       "1291387             Prologue Player   NaN  \n",
       "909157              Prologue Player   NaN  \n",
       "1473574             Captain Smolett   6.0  \n",
       "3298306            Long John Silver   3.0  \n",
       "830114              Prologue Player   NaN  \n",
       "840745      Undetermined child role   NaN  \n",
       "2654214            Louise Trelawney   2.0  \n",
       "1715014                   Black Dog   4.0  \n",
       "1417884             Prologue Player   NaN  \n",
       "\n",
       "[190 rows x 6 columns]"
      ]
     },
     "execution_count": 100,
     "metadata": {},
     "output_type": "execute_result"
    }
   ],
   "source": [
    "TL"
   ]
  },
  {
   "cell_type": "markdown",
   "metadata": {
    "collapsed": true
   },
   "source": [
    "### How many movies were made in the year 1950?"
   ]
  },
  {
   "cell_type": "code",
   "execution_count": 112,
   "metadata": {},
   "outputs": [],
   "source": [
    "Count_Mov=cast[cast.year==1950].groupby('year').size()"
   ]
  },
  {
   "cell_type": "code",
   "execution_count": 113,
   "metadata": {},
   "outputs": [
    {
     "data": {
      "text/plain": [
       "year\n",
       "1950    22006\n",
       "dtype: int64"
      ]
     },
     "execution_count": 113,
     "metadata": {},
     "output_type": "execute_result"
    }
   ],
   "source": [
    "Count_Mov"
   ]
  },
  {
   "cell_type": "markdown",
   "metadata": {
    "collapsed": true
   },
   "source": [
    "### How many movies were made in the year 1960?"
   ]
  },
  {
   "cell_type": "code",
   "execution_count": 114,
   "metadata": {},
   "outputs": [],
   "source": [
    "Count_1960_mov=cast[cast.year==1960].groupby('year').size()"
   ]
  },
  {
   "cell_type": "code",
   "execution_count": 115,
   "metadata": {},
   "outputs": [
    {
     "data": {
      "text/plain": [
       "year\n",
       "1960    18456\n",
       "dtype: int64"
      ]
     },
     "execution_count": 115,
     "metadata": {},
     "output_type": "execute_result"
    }
   ],
   "source": [
    "Count_1960_mov"
   ]
  },
  {
   "cell_type": "markdown",
   "metadata": {
    "collapsed": true
   },
   "source": [
    "### How many movies were made from 1950 through 1959?"
   ]
  },
  {
   "cell_type": "code",
   "execution_count": 152,
   "metadata": {},
   "outputs": [],
   "source": [
    "Between=sum((cast.year>=1950) & (cast.year<=1959))"
   ]
  },
  {
   "cell_type": "code",
   "execution_count": 153,
   "metadata": {},
   "outputs": [
    {
     "data": {
      "text/plain": [
       "210986"
      ]
     },
     "execution_count": 153,
     "metadata": {},
     "output_type": "execute_result"
    }
   ],
   "source": [
    "Between"
   ]
  },
  {
   "cell_type": "code",
   "execution_count": 157,
   "metadata": {},
   "outputs": [],
   "source": [
    "Between1=cast[(cast.year>=1950) & (cast.year<=1959)].groupby('year').sum()"
   ]
  },
  {
   "cell_type": "code",
   "execution_count": 158,
   "metadata": {},
   "outputs": [
    {
     "data": {
      "text/html": [
       "<div>\n",
       "<style scoped>\n",
       "    .dataframe tbody tr th:only-of-type {\n",
       "        vertical-align: middle;\n",
       "    }\n",
       "\n",
       "    .dataframe tbody tr th {\n",
       "        vertical-align: top;\n",
       "    }\n",
       "\n",
       "    .dataframe thead th {\n",
       "        text-align: right;\n",
       "    }\n",
       "</style>\n",
       "<table border=\"1\" class=\"dataframe\">\n",
       "  <thead>\n",
       "    <tr style=\"text-align: right;\">\n",
       "      <th></th>\n",
       "      <th>n</th>\n",
       "    </tr>\n",
       "    <tr>\n",
       "      <th>year</th>\n",
       "      <th></th>\n",
       "    </tr>\n",
       "  </thead>\n",
       "  <tbody>\n",
       "    <tr>\n",
       "      <th>1950</th>\n",
       "      <td>88787.0</td>\n",
       "    </tr>\n",
       "    <tr>\n",
       "      <th>1951</th>\n",
       "      <td>99831.0</td>\n",
       "    </tr>\n",
       "    <tr>\n",
       "      <th>1952</th>\n",
       "      <td>96992.0</td>\n",
       "    </tr>\n",
       "    <tr>\n",
       "      <th>1953</th>\n",
       "      <td>102531.0</td>\n",
       "    </tr>\n",
       "    <tr>\n",
       "      <th>1954</th>\n",
       "      <td>106057.0</td>\n",
       "    </tr>\n",
       "    <tr>\n",
       "      <th>1955</th>\n",
       "      <td>103827.0</td>\n",
       "    </tr>\n",
       "    <tr>\n",
       "      <th>1956</th>\n",
       "      <td>108142.0</td>\n",
       "    </tr>\n",
       "    <tr>\n",
       "      <th>1957</th>\n",
       "      <td>115211.0</td>\n",
       "    </tr>\n",
       "    <tr>\n",
       "      <th>1958</th>\n",
       "      <td>134897.0</td>\n",
       "    </tr>\n",
       "    <tr>\n",
       "      <th>1959</th>\n",
       "      <td>112761.0</td>\n",
       "    </tr>\n",
       "  </tbody>\n",
       "</table>\n",
       "</div>"
      ],
      "text/plain": [
       "             n\n",
       "year          \n",
       "1950   88787.0\n",
       "1951   99831.0\n",
       "1952   96992.0\n",
       "1953  102531.0\n",
       "1954  106057.0\n",
       "1955  103827.0\n",
       "1956  108142.0\n",
       "1957  115211.0\n",
       "1958  134897.0\n",
       "1959  112761.0"
      ]
     },
     "execution_count": 158,
     "metadata": {},
     "output_type": "execute_result"
    }
   ],
   "source": [
    "Between1"
   ]
  },
  {
   "cell_type": "markdown",
   "metadata": {
    "collapsed": true
   },
   "source": [
    "### In what years has a movie titled \"Batman\" been released?"
   ]
  },
  {
   "cell_type": "code",
   "execution_count": 180,
   "metadata": {},
   "outputs": [],
   "source": [
    "bat=cast[cast.title=='Batman'].groupby('year').size()"
   ]
  },
  {
   "cell_type": "code",
   "execution_count": 185,
   "metadata": {},
   "outputs": [
    {
     "name": "stdout",
     "output_type": "stream",
     "text": [
      "year\n",
      "1943    52\n",
      "1989    68\n",
      "dtype: int64\n"
     ]
    }
   ],
   "source": [
    "print(bat)"
   ]
  },
  {
   "cell_type": "markdown",
   "metadata": {
    "collapsed": true
   },
   "source": [
    "### How many roles were there in the movie \"Inception\"?"
   ]
  },
  {
   "cell_type": "code",
   "execution_count": 189,
   "metadata": {},
   "outputs": [],
   "source": [
    "role=cast[cast.title=='Inception'].groupby('character').size()"
   ]
  },
  {
   "cell_type": "code",
   "execution_count": 190,
   "metadata": {},
   "outputs": [
    {
     "data": {
      "text/plain": [
       "character\n",
       "A Passer-By                  1\n",
       "Airport Patron               3\n",
       "Ariadne                      1\n",
       "Arthur                       1\n",
       "Bar Sub Con                  5\n",
       "Blonde                       1\n",
       "Bridge Sub Con               7\n",
       "Browning                     1\n",
       "Businessman                  2\n",
       "Cab Driver                   1\n",
       "Cobb                         1\n",
       "Denison                      1\n",
       "Eames                        1\n",
       "Elderly Bald Man             1\n",
       "Extra                        1\n",
       "Fischer's Driver             1\n",
       "Fischer's Jet Captain        1\n",
       "Flight Attendant             1\n",
       "French Student               1\n",
       "Hotel Guest                  1\n",
       "Immigration Officer          1\n",
       "Italian Gambler              1\n",
       "James (20 months)            1\n",
       "James (3 years)              1\n",
       "Japanese Landing Crew        1\n",
       "Japanese Security Guard      1\n",
       "LAX Passenger                3\n",
       "Lawyer                       1\n",
       "Lobby Sub Con                5\n",
       "Mal                          1\n",
       "Maurice Fischer              1\n",
       "Miles                        1\n",
       "Mombasa Casino Cashier       1\n",
       "Mombasan Cashier             1\n",
       "Mombasan Casino Staff        1\n",
       "Mombasan Gambler             1\n",
       "Nash                         1\n",
       "Old Cobb                     1\n",
       "Old Mal                      1\n",
       "Pedestrian                   2\n",
       "Penrose Sub Con              3\n",
       "Phillipa (3 years)           1\n",
       "Phillipa (5 years)           1\n",
       "Private Nurse                1\n",
       "Reporter                     1\n",
       "Robert Fischer               1\n",
       "Saito                        1\n",
       "Saito's Attendant            1\n",
       "Saito's Bodyguard Officer    1\n",
       "Stock Broker                 1\n",
       "Stockbroker                  1\n",
       "Street Person                1\n",
       "Tadashi                      1\n",
       "Thin Man                     1\n",
       "Yusuf                        1\n",
       "dtype: int64"
      ]
     },
     "execution_count": 190,
     "metadata": {},
     "output_type": "execute_result"
    }
   ],
   "source": [
    "role"
   ]
  },
  {
   "cell_type": "markdown",
   "metadata": {
    "collapsed": true
   },
   "source": [
    "### How many roles in the movie \"Inception\" are NOT ranked by an \"n\" value?"
   ]
  },
  {
   "cell_type": "code",
   "execution_count": 206,
   "metadata": {},
   "outputs": [],
   "source": [
    "x=cast[cast.title=='Inception']"
   ]
  },
  {
   "cell_type": "code",
   "execution_count": 210,
   "metadata": {},
   "outputs": [],
   "source": [
    "r=x[x.n.isnull()]"
   ]
  },
  {
   "cell_type": "code",
   "execution_count": 219,
   "metadata": {},
   "outputs": [],
   "source": [
    "Not_rank=r.groupby('character').size()"
   ]
  },
  {
   "cell_type": "code",
   "execution_count": 220,
   "metadata": {},
   "outputs": [
    {
     "data": {
      "text/plain": [
       "character\n",
       "A Passer-By                  1\n",
       "Airport Patron               3\n",
       "Bridge Sub Con               2\n",
       "Denison                      1\n",
       "Extra                        1\n",
       "French Student               1\n",
       "Hotel Guest                  1\n",
       "Italian Gambler              1\n",
       "Japanese Landing Crew        1\n",
       "LAX Passenger                3\n",
       "Mombasa Casino Cashier       1\n",
       "Mombasan Cashier             1\n",
       "Mombasan Casino Staff        1\n",
       "Mombasan Gambler             1\n",
       "Pedestrian                   2\n",
       "Reporter                     1\n",
       "Saito's Bodyguard Officer    1\n",
       "Stock Broker                 1\n",
       "Stockbroker                  1\n",
       "Street Person                1\n",
       "dtype: int64"
      ]
     },
     "execution_count": 220,
     "metadata": {},
     "output_type": "execute_result"
    }
   ],
   "source": [
    "Not_rank"
   ]
  },
  {
   "cell_type": "markdown",
   "metadata": {
    "collapsed": true
   },
   "source": [
    "### But how many roles in the movie \"Inception\" did receive an \"n\" value?"
   ]
  },
  {
   "cell_type": "code",
   "execution_count": 221,
   "metadata": {},
   "outputs": [],
   "source": [
    "x=cast[cast.title=='Inception']"
   ]
  },
  {
   "cell_type": "code",
   "execution_count": 225,
   "metadata": {},
   "outputs": [],
   "source": [
    "role1=x[x.n.notnull()]"
   ]
  },
  {
   "cell_type": "code",
   "execution_count": 228,
   "metadata": {},
   "outputs": [],
   "source": [
    "good_char=role1.groupby('character').size()"
   ]
  },
  {
   "cell_type": "code",
   "execution_count": 229,
   "metadata": {},
   "outputs": [
    {
     "data": {
      "text/plain": [
       "character\n",
       "Ariadne                    1\n",
       "Arthur                     1\n",
       "Bar Sub Con                5\n",
       "Blonde                     1\n",
       "Bridge Sub Con             5\n",
       "Browning                   1\n",
       "Businessman                2\n",
       "Cab Driver                 1\n",
       "Cobb                       1\n",
       "Eames                      1\n",
       "Elderly Bald Man           1\n",
       "Fischer's Driver           1\n",
       "Fischer's Jet Captain      1\n",
       "Flight Attendant           1\n",
       "Immigration Officer        1\n",
       "James (20 months)          1\n",
       "James (3 years)            1\n",
       "Japanese Security Guard    1\n",
       "Lawyer                     1\n",
       "Lobby Sub Con              5\n",
       "Mal                        1\n",
       "Maurice Fischer            1\n",
       "Miles                      1\n",
       "Nash                       1\n",
       "Old Cobb                   1\n",
       "Old Mal                    1\n",
       "Penrose Sub Con            3\n",
       "Phillipa (3 years)         1\n",
       "Phillipa (5 years)         1\n",
       "Private Nurse              1\n",
       "Robert Fischer             1\n",
       "Saito                      1\n",
       "Saito's Attendant          1\n",
       "Tadashi                    1\n",
       "Thin Man                   1\n",
       "Yusuf                      1\n",
       "dtype: int64"
      ]
     },
     "execution_count": 229,
     "metadata": {},
     "output_type": "execute_result"
    }
   ],
   "source": [
    "good_char"
   ]
  },
  {
   "cell_type": "markdown",
   "metadata": {
    "collapsed": true
   },
   "source": [
    "### Display the cast of \"North by Northwest\" in their correct \"n\"-value order, ignoring roles that did not earn a numeric \"n\" value."
   ]
  },
  {
   "cell_type": "code",
   "execution_count": 232,
   "metadata": {},
   "outputs": [],
   "source": [
    "j=cast[cast.title=='North by Northwest'].sort_values('n',ascending=False)"
   ]
  },
  {
   "cell_type": "code",
   "execution_count": 238,
   "metadata": {},
   "outputs": [],
   "source": [
    "notnull=j[j.n.notnull()]"
   ]
  },
  {
   "cell_type": "code",
   "execution_count": 240,
   "metadata": {},
   "outputs": [],
   "source": [
    "good_char_n=notnull.groupby('character').size()"
   ]
  },
  {
   "cell_type": "code",
   "execution_count": 241,
   "metadata": {},
   "outputs": [
    {
     "data": {
      "text/plain": [
       "character\n",
       "Auctioneer                     1\n",
       "Captain Junket                 1\n",
       "Charley - Chicago Policeman    1\n",
       "Clara Thornhill                1\n",
       "Dr. Cross                      1\n",
       "Eve Kendall                    1\n",
       "Leonard                        1\n",
       "Lester Townsend                1\n",
       "Licht                          1\n",
       "Mrs. Townsend                  1\n",
       "Phillip Vandamm                1\n",
       "Roger O. Thornhill             1\n",
       "Sergeant Flamm                 1\n",
       "The Professor                  1\n",
       "Valerian                       1\n",
       "Victor Larrabee                1\n",
       "dtype: int64"
      ]
     },
     "execution_count": 241,
     "metadata": {},
     "output_type": "execute_result"
    }
   ],
   "source": [
    "good_char_n"
   ]
  },
  {
   "cell_type": "markdown",
   "metadata": {
    "collapsed": true
   },
   "source": [
    "### Display the entire cast, in \"n\"-order, of the 1972 film \"Sleuth\"."
   ]
  },
  {
   "cell_type": "code",
   "execution_count": 251,
   "metadata": {},
   "outputs": [],
   "source": [
    "sleuth=cast[(cast.year==1972) & (cast.title=='Sleuth')]"
   ]
  },
  {
   "cell_type": "code",
   "execution_count": 256,
   "metadata": {},
   "outputs": [],
   "source": [
    "ofn=sleuth.sort_values('n',ascending=True)"
   ]
  },
  {
   "cell_type": "code",
   "execution_count": 257,
   "metadata": {},
   "outputs": [
    {
     "data": {
      "text/html": [
       "<div>\n",
       "<style scoped>\n",
       "    .dataframe tbody tr th:only-of-type {\n",
       "        vertical-align: middle;\n",
       "    }\n",
       "\n",
       "    .dataframe tbody tr th {\n",
       "        vertical-align: top;\n",
       "    }\n",
       "\n",
       "    .dataframe thead th {\n",
       "        text-align: right;\n",
       "    }\n",
       "</style>\n",
       "<table border=\"1\" class=\"dataframe\">\n",
       "  <thead>\n",
       "    <tr style=\"text-align: right;\">\n",
       "      <th></th>\n",
       "      <th>title</th>\n",
       "      <th>year</th>\n",
       "      <th>name</th>\n",
       "      <th>type</th>\n",
       "      <th>character</th>\n",
       "      <th>n</th>\n",
       "    </tr>\n",
       "  </thead>\n",
       "  <tbody>\n",
       "    <tr>\n",
       "      <th>1644328</th>\n",
       "      <td>Sleuth</td>\n",
       "      <td>1972</td>\n",
       "      <td>Laurence Olivier</td>\n",
       "      <td>actor</td>\n",
       "      <td>Andrew Wyke</td>\n",
       "      <td>1.0</td>\n",
       "    </tr>\n",
       "    <tr>\n",
       "      <th>314691</th>\n",
       "      <td>Sleuth</td>\n",
       "      <td>1972</td>\n",
       "      <td>Michael Caine</td>\n",
       "      <td>actor</td>\n",
       "      <td>Milo Tindle</td>\n",
       "      <td>2.0</td>\n",
       "    </tr>\n",
       "    <tr>\n",
       "      <th>360365</th>\n",
       "      <td>Sleuth</td>\n",
       "      <td>1972</td>\n",
       "      <td>Alec Cawthorne</td>\n",
       "      <td>actor</td>\n",
       "      <td>Inspector Doppler</td>\n",
       "      <td>3.0</td>\n",
       "    </tr>\n",
       "    <tr>\n",
       "      <th>1412647</th>\n",
       "      <td>Sleuth</td>\n",
       "      <td>1972</td>\n",
       "      <td>John (II) Matthews</td>\n",
       "      <td>actor</td>\n",
       "      <td>Detective Sergeant Tarrant</td>\n",
       "      <td>4.0</td>\n",
       "    </tr>\n",
       "    <tr>\n",
       "      <th>2619278</th>\n",
       "      <td>Sleuth</td>\n",
       "      <td>1972</td>\n",
       "      <td>Eve (III) Channing</td>\n",
       "      <td>actress</td>\n",
       "      <td>Marguerite Wyke</td>\n",
       "      <td>5.0</td>\n",
       "    </tr>\n",
       "    <tr>\n",
       "      <th>1396572</th>\n",
       "      <td>Sleuth</td>\n",
       "      <td>1972</td>\n",
       "      <td>Teddy Martin</td>\n",
       "      <td>actor</td>\n",
       "      <td>Police Constable Higgs</td>\n",
       "      <td>6.0</td>\n",
       "    </tr>\n",
       "  </tbody>\n",
       "</table>\n",
       "</div>"
      ],
      "text/plain": [
       "          title  year                name     type  \\\n",
       "1644328  Sleuth  1972    Laurence Olivier    actor   \n",
       "314691   Sleuth  1972       Michael Caine    actor   \n",
       "360365   Sleuth  1972      Alec Cawthorne    actor   \n",
       "1412647  Sleuth  1972  John (II) Matthews    actor   \n",
       "2619278  Sleuth  1972  Eve (III) Channing  actress   \n",
       "1396572  Sleuth  1972        Teddy Martin    actor   \n",
       "\n",
       "                          character    n  \n",
       "1644328                 Andrew Wyke  1.0  \n",
       "314691                  Milo Tindle  2.0  \n",
       "360365            Inspector Doppler  3.0  \n",
       "1412647  Detective Sergeant Tarrant  4.0  \n",
       "2619278             Marguerite Wyke  5.0  \n",
       "1396572      Police Constable Higgs  6.0  "
      ]
     },
     "execution_count": 257,
     "metadata": {},
     "output_type": "execute_result"
    }
   ],
   "source": [
    "ofn"
   ]
  },
  {
   "cell_type": "markdown",
   "metadata": {
    "collapsed": true
   },
   "source": [
    "### Now display the entire cast, in \"n\"-order, of the 2007 version of \"Sleuth\"."
   ]
  },
  {
   "cell_type": "code",
   "execution_count": 260,
   "metadata": {},
   "outputs": [],
   "source": [
    "sleuth1=cast[(cast.year==2007) & (cast.title=='Sleuth')]"
   ]
  },
  {
   "cell_type": "code",
   "execution_count": 262,
   "metadata": {},
   "outputs": [],
   "source": [
    "ofn1=sleuth1.sort_values('n',ascending=True)"
   ]
  },
  {
   "cell_type": "code",
   "execution_count": 266,
   "metadata": {},
   "outputs": [],
   "source": [
    "orderbyn=ofn1[ofn1.n.notnull()]"
   ]
  },
  {
   "cell_type": "code",
   "execution_count": 267,
   "metadata": {},
   "outputs": [
    {
     "data": {
      "text/html": [
       "<div>\n",
       "<style scoped>\n",
       "    .dataframe tbody tr th:only-of-type {\n",
       "        vertical-align: middle;\n",
       "    }\n",
       "\n",
       "    .dataframe tbody tr th {\n",
       "        vertical-align: top;\n",
       "    }\n",
       "\n",
       "    .dataframe thead th {\n",
       "        text-align: right;\n",
       "    }\n",
       "</style>\n",
       "<table border=\"1\" class=\"dataframe\">\n",
       "  <thead>\n",
       "    <tr style=\"text-align: right;\">\n",
       "      <th></th>\n",
       "      <th>title</th>\n",
       "      <th>year</th>\n",
       "      <th>name</th>\n",
       "      <th>type</th>\n",
       "      <th>character</th>\n",
       "      <th>n</th>\n",
       "    </tr>\n",
       "  </thead>\n",
       "  <tbody>\n",
       "    <tr>\n",
       "      <th>314692</th>\n",
       "      <td>Sleuth</td>\n",
       "      <td>2007</td>\n",
       "      <td>Michael Caine</td>\n",
       "      <td>actor</td>\n",
       "      <td>Andrew</td>\n",
       "      <td>1.0</td>\n",
       "    </tr>\n",
       "    <tr>\n",
       "      <th>1246855</th>\n",
       "      <td>Sleuth</td>\n",
       "      <td>2007</td>\n",
       "      <td>Jude Law</td>\n",
       "      <td>actor</td>\n",
       "      <td>Milo</td>\n",
       "      <td>2.0</td>\n",
       "    </tr>\n",
       "    <tr>\n",
       "      <th>1741124</th>\n",
       "      <td>Sleuth</td>\n",
       "      <td>2007</td>\n",
       "      <td>Harold Pinter</td>\n",
       "      <td>actor</td>\n",
       "      <td>Man on T.V.</td>\n",
       "      <td>3.0</td>\n",
       "    </tr>\n",
       "  </tbody>\n",
       "</table>\n",
       "</div>"
      ],
      "text/plain": [
       "          title  year           name   type    character    n\n",
       "314692   Sleuth  2007  Michael Caine  actor       Andrew  1.0\n",
       "1246855  Sleuth  2007       Jude Law  actor         Milo  2.0\n",
       "1741124  Sleuth  2007  Harold Pinter  actor  Man on T.V.  3.0"
      ]
     },
     "execution_count": 267,
     "metadata": {},
     "output_type": "execute_result"
    }
   ],
   "source": [
    "orderbyn"
   ]
  },
  {
   "cell_type": "markdown",
   "metadata": {
    "collapsed": true
   },
   "source": [
    "### How many roles were credited in the silent 1921 version of Hamlet?"
   ]
  },
  {
   "cell_type": "code",
   "execution_count": 268,
   "metadata": {},
   "outputs": [
    {
     "data": {
      "text/html": [
       "<div>\n",
       "<style scoped>\n",
       "    .dataframe tbody tr th:only-of-type {\n",
       "        vertical-align: middle;\n",
       "    }\n",
       "\n",
       "    .dataframe tbody tr th {\n",
       "        vertical-align: top;\n",
       "    }\n",
       "\n",
       "    .dataframe thead th {\n",
       "        text-align: right;\n",
       "    }\n",
       "</style>\n",
       "<table border=\"1\" class=\"dataframe\">\n",
       "  <thead>\n",
       "    <tr style=\"text-align: right;\">\n",
       "      <th></th>\n",
       "      <th>title</th>\n",
       "      <th>year</th>\n",
       "      <th>name</th>\n",
       "      <th>type</th>\n",
       "      <th>character</th>\n",
       "      <th>n</th>\n",
       "    </tr>\n",
       "  </thead>\n",
       "  <tbody>\n",
       "    <tr>\n",
       "      <th>0</th>\n",
       "      <td>Closet Monster</td>\n",
       "      <td>2015</td>\n",
       "      <td>Buffy #1</td>\n",
       "      <td>actor</td>\n",
       "      <td>Buffy 4</td>\n",
       "      <td>NaN</td>\n",
       "    </tr>\n",
       "    <tr>\n",
       "      <th>1</th>\n",
       "      <td>Suuri illusioni</td>\n",
       "      <td>1985</td>\n",
       "      <td>Homo $</td>\n",
       "      <td>actor</td>\n",
       "      <td>Guests</td>\n",
       "      <td>22.0</td>\n",
       "    </tr>\n",
       "    <tr>\n",
       "      <th>2</th>\n",
       "      <td>Battle of the Sexes</td>\n",
       "      <td>2017</td>\n",
       "      <td>$hutter</td>\n",
       "      <td>actor</td>\n",
       "      <td>Bobby Riggs Fan</td>\n",
       "      <td>10.0</td>\n",
       "    </tr>\n",
       "    <tr>\n",
       "      <th>3</th>\n",
       "      <td>Secret in Their Eyes</td>\n",
       "      <td>2015</td>\n",
       "      <td>$hutter</td>\n",
       "      <td>actor</td>\n",
       "      <td>2002 Dodger Fan</td>\n",
       "      <td>NaN</td>\n",
       "    </tr>\n",
       "    <tr>\n",
       "      <th>4</th>\n",
       "      <td>Steve Jobs</td>\n",
       "      <td>2015</td>\n",
       "      <td>$hutter</td>\n",
       "      <td>actor</td>\n",
       "      <td>1988 Opera House Patron</td>\n",
       "      <td>NaN</td>\n",
       "    </tr>\n",
       "  </tbody>\n",
       "</table>\n",
       "</div>"
      ],
      "text/plain": [
       "                  title  year      name   type                character     n\n",
       "0        Closet Monster  2015  Buffy #1  actor                  Buffy 4   NaN\n",
       "1       Suuri illusioni  1985    Homo $  actor                   Guests  22.0\n",
       "2   Battle of the Sexes  2017   $hutter  actor          Bobby Riggs Fan  10.0\n",
       "3  Secret in Their Eyes  2015   $hutter  actor          2002 Dodger Fan   NaN\n",
       "4            Steve Jobs  2015   $hutter  actor  1988 Opera House Patron   NaN"
      ]
     },
     "execution_count": 268,
     "metadata": {},
     "output_type": "execute_result"
    }
   ],
   "source": [
    "cast.head()"
   ]
  },
  {
   "cell_type": "code",
   "execution_count": 273,
   "metadata": {},
   "outputs": [],
   "source": [
    "silent=cast[(cast.title=='Hamlet') & (cast.year==1921)]"
   ]
  },
  {
   "cell_type": "code",
   "execution_count": 280,
   "metadata": {},
   "outputs": [],
   "source": [
    "roles3=silent[silent.n.notnull()]"
   ]
  },
  {
   "cell_type": "code",
   "execution_count": 289,
   "metadata": {},
   "outputs": [],
   "source": [
    "characercredited=roles3.groupby(['character','n']).size()"
   ]
  },
  {
   "cell_type": "code",
   "execution_count": 290,
   "metadata": {},
   "outputs": [
    {
     "data": {
      "text/plain": [
       "character         n  \n",
       "Claudius          4.0    1\n",
       "Fortinbras,       9.0    1\n",
       "Hamlet            1.0    1\n",
       "Horatio           5.0    1\n",
       "K?nig Hamlet      2.0    1\n",
       "K?nigin Gertrude  3.0    1\n",
       "Laertes           7.0    1\n",
       "Ophelia           8.0    1\n",
       "Polonius          6.0    1\n",
       "dtype: int64"
      ]
     },
     "execution_count": 290,
     "metadata": {},
     "output_type": "execute_result"
    }
   ],
   "source": [
    "characercredited"
   ]
  },
  {
   "cell_type": "markdown",
   "metadata": {
    "collapsed": true
   },
   "source": [
    "### How many roles were credited in Branagh’s 1996 Hamlet?"
   ]
  },
  {
   "cell_type": "code",
   "execution_count": 18,
   "metadata": {},
   "outputs": [],
   "source": [
    "v1=cast[(cast.title=='Hamlet') & (cast.year==1996) & (cast.name.str.endswith(\"Branagh\"))]\n"
   ]
  },
  {
   "cell_type": "code",
   "execution_count": 23,
   "metadata": {},
   "outputs": [
    {
     "data": {
      "text/plain": [
       "character\n",
       "Hamlet    1\n",
       "dtype: int64"
      ]
     },
     "execution_count": 23,
     "metadata": {},
     "output_type": "execute_result"
    }
   ],
   "source": [
    "v1.groupby('character').size()"
   ]
  },
  {
   "cell_type": "markdown",
   "metadata": {
    "collapsed": true
   },
   "source": [
    "### How many \"Hamlet\" roles have been listed in all film credits through history?"
   ]
  },
  {
   "cell_type": "code",
   "execution_count": 31,
   "metadata": {},
   "outputs": [],
   "source": [
    "ham_nro=cast[(cast.title!='Hamlet')].groupby('character').size()"
   ]
  },
  {
   "cell_type": "code",
   "execution_count": 30,
   "metadata": {},
   "outputs": [],
   "source": [
    "ham_ro=cast[(cast.title=='Hamlet')].groupby('character').size()"
   ]
  },
  {
   "cell_type": "code",
   "execution_count": 35,
   "metadata": {},
   "outputs": [
    {
     "ename": "ValueError",
     "evalue": "Can only compare identically-labeled Series objects",
     "output_type": "error",
     "traceback": [
      "\u001b[1;31m---------------------------------------------------------------------------\u001b[0m",
      "\u001b[1;31mValueError\u001b[0m                                Traceback (most recent call last)",
      "\u001b[1;32m<ipython-input-35-c411bc858f7d>\u001b[0m in \u001b[0;36m<module>\u001b[1;34m\u001b[0m\n\u001b[1;32m----> 1\u001b[1;33m \u001b[0mdiff\u001b[0m\u001b[1;33m=\u001b[0m\u001b[1;33m(\u001b[0m\u001b[0mham_nro\u001b[0m \u001b[1;33m!=\u001b[0m \u001b[0mham_ro\u001b[0m\u001b[1;33m)\u001b[0m\u001b[1;33m.\u001b[0m\u001b[0many\u001b[0m\u001b[1;33m(\u001b[0m\u001b[1;36m1\u001b[0m\u001b[1;33m)\u001b[0m\u001b[1;33m\u001b[0m\u001b[1;33m\u001b[0m\u001b[0m\n\u001b[0m",
      "\u001b[1;32mC:\\ProgramData\\Anaconda3\\lib\\site-packages\\pandas\\core\\ops.py\u001b[0m in \u001b[0;36mwrapper\u001b[1;34m(self, other, axis)\u001b[0m\n\u001b[0;32m   1188\u001b[0m \u001b[1;33m\u001b[0m\u001b[0m\n\u001b[0;32m   1189\u001b[0m         \u001b[1;32melif\u001b[0m \u001b[0misinstance\u001b[0m\u001b[1;33m(\u001b[0m\u001b[0mother\u001b[0m\u001b[1;33m,\u001b[0m \u001b[0mABCSeries\u001b[0m\u001b[1;33m)\u001b[0m \u001b[1;32mand\u001b[0m \u001b[1;32mnot\u001b[0m \u001b[0mself\u001b[0m\u001b[1;33m.\u001b[0m\u001b[0m_indexed_same\u001b[0m\u001b[1;33m(\u001b[0m\u001b[0mother\u001b[0m\u001b[1;33m)\u001b[0m\u001b[1;33m:\u001b[0m\u001b[1;33m\u001b[0m\u001b[1;33m\u001b[0m\u001b[0m\n\u001b[1;32m-> 1190\u001b[1;33m             raise ValueError(\"Can only compare identically-labeled \"\n\u001b[0m\u001b[0;32m   1191\u001b[0m                              \"Series objects\")\n\u001b[0;32m   1192\u001b[0m \u001b[1;33m\u001b[0m\u001b[0m\n",
      "\u001b[1;31mValueError\u001b[0m: Can only compare identically-labeled Series objects"
     ]
    }
   ],
   "source": [
    "diff=(ham_nro != ham_ro).any(1)"
   ]
  },
  {
   "cell_type": "markdown",
   "metadata": {
    "collapsed": true
   },
   "source": [
    "### How many people have played an \"Ophelia\"?"
   ]
  },
  {
   "cell_type": "code",
   "execution_count": 36,
   "metadata": {},
   "outputs": [
    {
     "data": {
      "text/html": [
       "<div>\n",
       "<style scoped>\n",
       "    .dataframe tbody tr th:only-of-type {\n",
       "        vertical-align: middle;\n",
       "    }\n",
       "\n",
       "    .dataframe tbody tr th {\n",
       "        vertical-align: top;\n",
       "    }\n",
       "\n",
       "    .dataframe thead th {\n",
       "        text-align: right;\n",
       "    }\n",
       "</style>\n",
       "<table border=\"1\" class=\"dataframe\">\n",
       "  <thead>\n",
       "    <tr style=\"text-align: right;\">\n",
       "      <th></th>\n",
       "      <th>title</th>\n",
       "      <th>year</th>\n",
       "      <th>name</th>\n",
       "      <th>type</th>\n",
       "      <th>character</th>\n",
       "      <th>n</th>\n",
       "    </tr>\n",
       "  </thead>\n",
       "  <tbody>\n",
       "    <tr>\n",
       "      <th>0</th>\n",
       "      <td>Closet Monster</td>\n",
       "      <td>2015</td>\n",
       "      <td>Buffy #1</td>\n",
       "      <td>actor</td>\n",
       "      <td>Buffy 4</td>\n",
       "      <td>NaN</td>\n",
       "    </tr>\n",
       "    <tr>\n",
       "      <th>1</th>\n",
       "      <td>Suuri illusioni</td>\n",
       "      <td>1985</td>\n",
       "      <td>Homo $</td>\n",
       "      <td>actor</td>\n",
       "      <td>Guests</td>\n",
       "      <td>22.0</td>\n",
       "    </tr>\n",
       "    <tr>\n",
       "      <th>2</th>\n",
       "      <td>Battle of the Sexes</td>\n",
       "      <td>2017</td>\n",
       "      <td>$hutter</td>\n",
       "      <td>actor</td>\n",
       "      <td>Bobby Riggs Fan</td>\n",
       "      <td>10.0</td>\n",
       "    </tr>\n",
       "    <tr>\n",
       "      <th>3</th>\n",
       "      <td>Secret in Their Eyes</td>\n",
       "      <td>2015</td>\n",
       "      <td>$hutter</td>\n",
       "      <td>actor</td>\n",
       "      <td>2002 Dodger Fan</td>\n",
       "      <td>NaN</td>\n",
       "    </tr>\n",
       "    <tr>\n",
       "      <th>4</th>\n",
       "      <td>Steve Jobs</td>\n",
       "      <td>2015</td>\n",
       "      <td>$hutter</td>\n",
       "      <td>actor</td>\n",
       "      <td>1988 Opera House Patron</td>\n",
       "      <td>NaN</td>\n",
       "    </tr>\n",
       "  </tbody>\n",
       "</table>\n",
       "</div>"
      ],
      "text/plain": [
       "                  title  year      name   type                character     n\n",
       "0        Closet Monster  2015  Buffy #1  actor                  Buffy 4   NaN\n",
       "1       Suuri illusioni  1985    Homo $  actor                   Guests  22.0\n",
       "2   Battle of the Sexes  2017   $hutter  actor          Bobby Riggs Fan  10.0\n",
       "3  Secret in Their Eyes  2015   $hutter  actor          2002 Dodger Fan   NaN\n",
       "4            Steve Jobs  2015   $hutter  actor  1988 Opera House Patron   NaN"
      ]
     },
     "execution_count": 36,
     "metadata": {},
     "output_type": "execute_result"
    }
   ],
   "source": [
    "cast.head()"
   ]
  },
  {
   "cell_type": "code",
   "execution_count": 8,
   "metadata": {},
   "outputs": [],
   "source": [
    "op=cast[(cast.character=='Ophelia')]"
   ]
  },
  {
   "cell_type": "code",
   "execution_count": 11,
   "metadata": {},
   "outputs": [],
   "source": [
    "n=op.groupby('name').size()"
   ]
  },
  {
   "cell_type": "code",
   "execution_count": 18,
   "metadata": {},
   "outputs": [
    {
     "data": {
      "text/plain": [
       "109"
      ]
     },
     "execution_count": 18,
     "metadata": {},
     "output_type": "execute_result"
    }
   ],
   "source": [
    "n.value_counts().sum()"
   ]
  },
  {
   "cell_type": "markdown",
   "metadata": {
    "collapsed": true
   },
   "source": [
    "### How many people have played a role called \"The Dude\"?"
   ]
  },
  {
   "cell_type": "code",
   "execution_count": 27,
   "metadata": {},
   "outputs": [
    {
     "data": {
      "text/plain": [
       "18"
      ]
     },
     "execution_count": 27,
     "metadata": {},
     "output_type": "execute_result"
    }
   ],
   "source": [
    "cast[cast.character=='The Dude'].groupby('name').size().value_counts().sum()"
   ]
  },
  {
   "cell_type": "code",
   "execution_count": null,
   "metadata": {
    "collapsed": true
   },
   "outputs": [],
   "source": []
  },
  {
   "cell_type": "code",
   "execution_count": null,
   "metadata": {
    "collapsed": true
   },
   "outputs": [],
   "source": []
  },
  {
   "cell_type": "markdown",
   "metadata": {
    "collapsed": true
   },
   "source": [
    "### How many people have played a role called \"The Stranger\"?"
   ]
  },
  {
   "cell_type": "code",
   "execution_count": 23,
   "metadata": {},
   "outputs": [],
   "source": [
    "stranger1=cast[cast.character=='The Stranger'].groupby('name').size()"
   ]
  },
  {
   "cell_type": "code",
   "execution_count": 24,
   "metadata": {},
   "outputs": [
    {
     "data": {
      "text/plain": [
       "name\n",
       "Aaron McGrane           1\n",
       "Adrienne King           1\n",
       "Alan Christy            1\n",
       "Alberto Esparza         1\n",
       "Aleksandr Rumnyov       2\n",
       "Alex Diakun             1\n",
       "Alveraz Ricardez        1\n",
       "Anders Van Haden        1\n",
       "Andrew (II) Kines       1\n",
       "Andrew Espinoza Long    1\n",
       "Angela Pleasence        1\n",
       "Anthony Oyeola          1\n",
       "Antonis Varkaris        1\n",
       "Arben Biba              1\n",
       "Arthur Thalasso         1\n",
       "Axel Kaae               1\n",
       "Ben (V) Dawson          1\n",
       "Ben Foster              1\n",
       "Ben Turpin              1\n",
       "Bernard Siegel          1\n",
       "Bill Oberst Jr.         1\n",
       "Bill Patton             1\n",
       "Billy Drago             2\n",
       "Brad Renfro             1\n",
       "Bradley Page            1\n",
       "Brian VanDyke           1\n",
       "Bruce Marchiano         3\n",
       "C.M. Hallard            1\n",
       "C.S. Lee                1\n",
       "Chad (XIII) Johnson     1\n",
       "                       ..\n",
       "Shawn Crosby            1\n",
       "Shivam Reddington       1\n",
       "Sid Haig                1\n",
       "Sophia Knolton          1\n",
       "Ste Cork                1\n",
       "Steve Noettl            1\n",
       "Steve Yahnke            1\n",
       "Steven (II) Richards    1\n",
       "Suman                   1\n",
       "Tex Driscoll            1\n",
       "Tim DeKay               1\n",
       "Tim Robbins             1\n",
       "Timothy Muskatell       1\n",
       "Tomas Milian            1\n",
       "Tony Anthony            4\n",
       "Troy Halverson          1\n",
       "Tully Marshall          1\n",
       "Ty Hardin               1\n",
       "Udo Kier                1\n",
       "Uns Mufti               1\n",
       "Vincent H. Alexander    1\n",
       "Wade Mylius             1\n",
       "Wallace MacDonald       1\n",
       "Walter Coy              1\n",
       "William B. Davidson     1\n",
       "William Kozy            1\n",
       "William Orlamond        1\n",
       "William Pike            1\n",
       "Wojciech Pszoniak       1\n",
       "Zachary Throne          1\n",
       "Length: 197, dtype: int64"
      ]
     },
     "execution_count": 24,
     "metadata": {},
     "output_type": "execute_result"
    }
   ],
   "source": [
    "stranger1"
   ]
  },
  {
   "cell_type": "code",
   "execution_count": 26,
   "metadata": {},
   "outputs": [
    {
     "data": {
      "text/plain": [
       "197"
      ]
     },
     "execution_count": 26,
     "metadata": {},
     "output_type": "execute_result"
    }
   ],
   "source": [
    "stranger1.value_counts().sum()"
   ]
  },
  {
   "cell_type": "markdown",
   "metadata": {
    "collapsed": true
   },
   "source": [
    "### How many roles has Sidney Poitier played throughout his career?"
   ]
  },
  {
   "cell_type": "code",
   "execution_count": 8,
   "metadata": {},
   "outputs": [
    {
     "data": {
      "text/plain": [
       "41"
      ]
     },
     "execution_count": 8,
     "metadata": {},
     "output_type": "execute_result"
    }
   ],
   "source": [
    "cast[cast.name=='Sidney Poitier'].groupby('character').size().value_counts().sum()"
   ]
  },
  {
   "cell_type": "code",
   "execution_count": null,
   "metadata": {
    "collapsed": true
   },
   "outputs": [],
   "source": []
  },
  {
   "cell_type": "markdown",
   "metadata": {
    "collapsed": true
   },
   "source": [
    "### How many roles has Judi Dench played?"
   ]
  },
  {
   "cell_type": "code",
   "execution_count": 9,
   "metadata": {},
   "outputs": [
    {
     "data": {
      "text/plain": [
       "46"
      ]
     },
     "execution_count": 9,
     "metadata": {},
     "output_type": "execute_result"
    }
   ],
   "source": [
    "cast[cast.name=='Judi Dench'].groupby('character').size().value_counts().sum()"
   ]
  },
  {
   "cell_type": "code",
   "execution_count": null,
   "metadata": {
    "collapsed": true
   },
   "outputs": [],
   "source": []
  },
  {
   "cell_type": "markdown",
   "metadata": {
    "collapsed": true
   },
   "source": [
    "### List the supporting roles (having n=2) played by Cary Grant in the 1940s, in order by year."
   ]
  },
  {
   "cell_type": "code",
   "execution_count": 31,
   "metadata": {},
   "outputs": [],
   "source": [
    "roles1=cast[(cast.name=='Cary Grant') & (cast.n==2)].sort_values('year',ascending=False)"
   ]
  },
  {
   "cell_type": "code",
   "execution_count": 32,
   "metadata": {},
   "outputs": [
    {
     "data": {
      "text/plain": [
       "character\n",
       "Alec Walker                  1\n",
       "Captain Cummings             1\n",
       "Charlie Mason                1\n",
       "David                        1\n",
       "George Kerby                 1\n",
       "Gerald Fitzgerald            1\n",
       "Henry Crocker                1\n",
       "Jack Clayton                 1\n",
       "Jeffrey Baxter               1\n",
       "Jerry Warriner               1\n",
       "Jimmy Hudson                 1\n",
       "Jimmy Monkley                1\n",
       "Johnny Case                  1\n",
       "Ken Gordon                   1\n",
       "Lieutenant B.F. Pinkerton    1\n",
       "Malcolm Trevor               1\n",
       "Nick                         1\n",
       "Nick Boyd                    1\n",
       "Porter Madison III           1\n",
       "Roger Adams                  1\n",
       "dtype: int64"
      ]
     },
     "execution_count": 32,
     "metadata": {},
     "output_type": "execute_result"
    }
   ],
   "source": [
    "roles1.groupby('character').size()"
   ]
  },
  {
   "cell_type": "markdown",
   "metadata": {
    "collapsed": true
   },
   "source": [
    "### List the leading roles that Cary Grant played in the 1940s in order by year."
   ]
  },
  {
   "cell_type": "code",
   "execution_count": 70,
   "metadata": {},
   "outputs": [],
   "source": [
    "roles2=cast[(cast.name=='Cary Grant') & (cast.year<=1940) & (cast.n.notnull())].sort_values('n',ascending=False)\n",
    " "
   ]
  },
  {
   "cell_type": "code",
   "execution_count": 71,
   "metadata": {},
   "outputs": [
    {
     "data": {
      "text/html": [
       "<div>\n",
       "<style scoped>\n",
       "    .dataframe tbody tr th:only-of-type {\n",
       "        vertical-align: middle;\n",
       "    }\n",
       "\n",
       "    .dataframe tbody tr th {\n",
       "        vertical-align: top;\n",
       "    }\n",
       "\n",
       "    .dataframe thead th {\n",
       "        text-align: right;\n",
       "    }\n",
       "</style>\n",
       "<table border=\"1\" class=\"dataframe\">\n",
       "  <thead>\n",
       "    <tr style=\"text-align: right;\">\n",
       "      <th></th>\n",
       "      <th>title</th>\n",
       "      <th>year</th>\n",
       "      <th>name</th>\n",
       "      <th>type</th>\n",
       "      <th>character</th>\n",
       "      <th>n</th>\n",
       "    </tr>\n",
       "  </thead>\n",
       "  <tbody>\n",
       "    <tr>\n",
       "      <th>840353</th>\n",
       "      <td>His Girl Friday</td>\n",
       "      <td>1940</td>\n",
       "      <td>Cary Grant</td>\n",
       "      <td>actor</td>\n",
       "      <td>Walter Burns</td>\n",
       "      <td>1.0</td>\n",
       "    </tr>\n",
       "    <tr>\n",
       "      <th>840371</th>\n",
       "      <td>My Favorite Wife</td>\n",
       "      <td>1940</td>\n",
       "      <td>Cary Grant</td>\n",
       "      <td>actor</td>\n",
       "      <td>Nick</td>\n",
       "      <td>2.0</td>\n",
       "    </tr>\n",
       "    <tr>\n",
       "      <th>840397</th>\n",
       "      <td>The Howards of Virginia</td>\n",
       "      <td>1940</td>\n",
       "      <td>Cary Grant</td>\n",
       "      <td>actor</td>\n",
       "      <td>Matt Howard</td>\n",
       "      <td>1.0</td>\n",
       "    </tr>\n",
       "    <tr>\n",
       "      <th>840399</th>\n",
       "      <td>The Philadelphia Story</td>\n",
       "      <td>1940</td>\n",
       "      <td>Cary Grant</td>\n",
       "      <td>actor</td>\n",
       "      <td>C. K. Dexter Haven</td>\n",
       "      <td>1.0</td>\n",
       "    </tr>\n",
       "    <tr>\n",
       "      <th>840379</th>\n",
       "      <td>Only Angels Have Wings</td>\n",
       "      <td>1939</td>\n",
       "      <td>Cary Grant</td>\n",
       "      <td>actor</td>\n",
       "      <td>Geoff Carter</td>\n",
       "      <td>1.0</td>\n",
       "    </tr>\n",
       "    <tr>\n",
       "      <th>840359</th>\n",
       "      <td>In Name Only</td>\n",
       "      <td>1939</td>\n",
       "      <td>Cary Grant</td>\n",
       "      <td>actor</td>\n",
       "      <td>Alec Walker</td>\n",
       "      <td>2.0</td>\n",
       "    </tr>\n",
       "    <tr>\n",
       "      <th>840352</th>\n",
       "      <td>Gunga Din</td>\n",
       "      <td>1939</td>\n",
       "      <td>Cary Grant</td>\n",
       "      <td>actor</td>\n",
       "      <td>Cutter</td>\n",
       "      <td>1.0</td>\n",
       "    </tr>\n",
       "    <tr>\n",
       "      <th>840340</th>\n",
       "      <td>Bringing Up Baby</td>\n",
       "      <td>1938</td>\n",
       "      <td>Cary Grant</td>\n",
       "      <td>actor</td>\n",
       "      <td>David</td>\n",
       "      <td>2.0</td>\n",
       "    </tr>\n",
       "    <tr>\n",
       "      <th>840354</th>\n",
       "      <td>Holiday</td>\n",
       "      <td>1938</td>\n",
       "      <td>Cary Grant</td>\n",
       "      <td>actor</td>\n",
       "      <td>Johnny Case</td>\n",
       "      <td>2.0</td>\n",
       "    </tr>\n",
       "    <tr>\n",
       "      <th>840392</th>\n",
       "      <td>The Awful Truth</td>\n",
       "      <td>1937</td>\n",
       "      <td>Cary Grant</td>\n",
       "      <td>actor</td>\n",
       "      <td>Jerry Warriner</td>\n",
       "      <td>2.0</td>\n",
       "    </tr>\n",
       "    <tr>\n",
       "      <th>840402</th>\n",
       "      <td>The Toast of New York</td>\n",
       "      <td>1937</td>\n",
       "      <td>Cary Grant</td>\n",
       "      <td>actor</td>\n",
       "      <td>Nick Boyd</td>\n",
       "      <td>2.0</td>\n",
       "    </tr>\n",
       "    <tr>\n",
       "      <th>840408</th>\n",
       "      <td>Topper</td>\n",
       "      <td>1937</td>\n",
       "      <td>Cary Grant</td>\n",
       "      <td>actor</td>\n",
       "      <td>George Kerby</td>\n",
       "      <td>2.0</td>\n",
       "    </tr>\n",
       "    <tr>\n",
       "      <th>840413</th>\n",
       "      <td>When You're in Love</td>\n",
       "      <td>1937</td>\n",
       "      <td>Cary Grant</td>\n",
       "      <td>actor</td>\n",
       "      <td>Jimmy Hudson</td>\n",
       "      <td>2.0</td>\n",
       "    </tr>\n",
       "    <tr>\n",
       "      <th>840412</th>\n",
       "      <td>Wedding Present</td>\n",
       "      <td>1936</td>\n",
       "      <td>Cary Grant</td>\n",
       "      <td>actor</td>\n",
       "      <td>Charlie Mason</td>\n",
       "      <td>2.0</td>\n",
       "    </tr>\n",
       "    <tr>\n",
       "      <th>840387</th>\n",
       "      <td>Suzy</td>\n",
       "      <td>1936</td>\n",
       "      <td>Cary Grant</td>\n",
       "      <td>actor</td>\n",
       "      <td>Andre Charville</td>\n",
       "      <td>3.0</td>\n",
       "    </tr>\n",
       "    <tr>\n",
       "      <th>840388</th>\n",
       "      <td>Sylvia Scarlett</td>\n",
       "      <td>1936</td>\n",
       "      <td>Cary Grant</td>\n",
       "      <td>actor</td>\n",
       "      <td>Jimmy Monkley</td>\n",
       "      <td>2.0</td>\n",
       "    </tr>\n",
       "    <tr>\n",
       "      <th>840337</th>\n",
       "      <td>Big Brown Eyes</td>\n",
       "      <td>1936</td>\n",
       "      <td>Cary Grant</td>\n",
       "      <td>actor</td>\n",
       "      <td>Danny Barr</td>\n",
       "      <td>1.0</td>\n",
       "    </tr>\n",
       "    <tr>\n",
       "      <th>840391</th>\n",
       "      <td>The Amazing Quest of Ernest Bliss</td>\n",
       "      <td>1936</td>\n",
       "      <td>Cary Grant</td>\n",
       "      <td>actor</td>\n",
       "      <td>Ernest Bliss</td>\n",
       "      <td>1.0</td>\n",
       "    </tr>\n",
       "    <tr>\n",
       "      <th>840347</th>\n",
       "      <td>Enter Madame!</td>\n",
       "      <td>1935</td>\n",
       "      <td>Cary Grant</td>\n",
       "      <td>actor</td>\n",
       "      <td>Gerald Fitzgerald</td>\n",
       "      <td>2.0</td>\n",
       "    </tr>\n",
       "    <tr>\n",
       "      <th>840414</th>\n",
       "      <td>Wings in the Dark</td>\n",
       "      <td>1935</td>\n",
       "      <td>Cary Grant</td>\n",
       "      <td>actor</td>\n",
       "      <td>Ken Gordon</td>\n",
       "      <td>2.0</td>\n",
       "    </tr>\n",
       "    <tr>\n",
       "      <th>840398</th>\n",
       "      <td>The Last Outpost</td>\n",
       "      <td>1935</td>\n",
       "      <td>Cary Grant</td>\n",
       "      <td>actor</td>\n",
       "      <td>Michael Andrews</td>\n",
       "      <td>1.0</td>\n",
       "    </tr>\n",
       "    <tr>\n",
       "      <th>840363</th>\n",
       "      <td>Ladies Should Listen</td>\n",
       "      <td>1934</td>\n",
       "      <td>Cary Grant</td>\n",
       "      <td>actor</td>\n",
       "      <td>Julian De Lussac</td>\n",
       "      <td>1.0</td>\n",
       "    </tr>\n",
       "    <tr>\n",
       "      <th>840404</th>\n",
       "      <td>Thirty Day Princess</td>\n",
       "      <td>1934</td>\n",
       "      <td>Cary Grant</td>\n",
       "      <td>actor</td>\n",
       "      <td>Porter Madison III</td>\n",
       "      <td>2.0</td>\n",
       "    </tr>\n",
       "    <tr>\n",
       "      <th>840339</th>\n",
       "      <td>Born to Be Bad</td>\n",
       "      <td>1934</td>\n",
       "      <td>Cary Grant</td>\n",
       "      <td>actor</td>\n",
       "      <td>Malcolm Trevor</td>\n",
       "      <td>2.0</td>\n",
       "    </tr>\n",
       "    <tr>\n",
       "      <th>840361</th>\n",
       "      <td>Kiss and Make-Up</td>\n",
       "      <td>1934</td>\n",
       "      <td>Cary Grant</td>\n",
       "      <td>actor</td>\n",
       "      <td>Dr. Maurice Lamar</td>\n",
       "      <td>1.0</td>\n",
       "    </tr>\n",
       "    <tr>\n",
       "      <th>840334</th>\n",
       "      <td>Alice in Wonderland</td>\n",
       "      <td>1933</td>\n",
       "      <td>Cary Grant</td>\n",
       "      <td>actor</td>\n",
       "      <td>Mock Turtle</td>\n",
       "      <td>10.0</td>\n",
       "    </tr>\n",
       "    <tr>\n",
       "      <th>840403</th>\n",
       "      <td>The Woman Accused</td>\n",
       "      <td>1933</td>\n",
       "      <td>Cary Grant</td>\n",
       "      <td>actor</td>\n",
       "      <td>Jeffrey Baxter</td>\n",
       "      <td>2.0</td>\n",
       "    </tr>\n",
       "    <tr>\n",
       "      <th>840384</th>\n",
       "      <td>She Done Him Wrong</td>\n",
       "      <td>1933</td>\n",
       "      <td>Cary Grant</td>\n",
       "      <td>actor</td>\n",
       "      <td>Captain Cummings</td>\n",
       "      <td>2.0</td>\n",
       "    </tr>\n",
       "    <tr>\n",
       "      <th>840358</th>\n",
       "      <td>I'm No Angel</td>\n",
       "      <td>1933</td>\n",
       "      <td>Cary Grant</td>\n",
       "      <td>actor</td>\n",
       "      <td>Jack Clayton</td>\n",
       "      <td>2.0</td>\n",
       "    </tr>\n",
       "    <tr>\n",
       "      <th>840350</th>\n",
       "      <td>Gambling Ship</td>\n",
       "      <td>1933</td>\n",
       "      <td>Cary Grant</td>\n",
       "      <td>actor</td>\n",
       "      <td>Ace Corbin</td>\n",
       "      <td>1.0</td>\n",
       "    </tr>\n",
       "    <tr>\n",
       "      <th>840395</th>\n",
       "      <td>The Eagle and the Hawk</td>\n",
       "      <td>1933</td>\n",
       "      <td>Cary Grant</td>\n",
       "      <td>actor</td>\n",
       "      <td>Henry Crocker</td>\n",
       "      <td>2.0</td>\n",
       "    </tr>\n",
       "    <tr>\n",
       "      <th>840355</th>\n",
       "      <td>Hot Saturday</td>\n",
       "      <td>1932</td>\n",
       "      <td>Cary Grant</td>\n",
       "      <td>actor</td>\n",
       "      <td>Romer Sheffield</td>\n",
       "      <td>1.0</td>\n",
       "    </tr>\n",
       "    <tr>\n",
       "      <th>840365</th>\n",
       "      <td>Merrily We Go to Hell</td>\n",
       "      <td>1932</td>\n",
       "      <td>Cary Grant</td>\n",
       "      <td>actor</td>\n",
       "      <td>Charlie Baxter</td>\n",
       "      <td>9.0</td>\n",
       "    </tr>\n",
       "    <tr>\n",
       "      <th>840364</th>\n",
       "      <td>Madame Butterfly</td>\n",
       "      <td>1932</td>\n",
       "      <td>Cary Grant</td>\n",
       "      <td>actor</td>\n",
       "      <td>Lieutenant B.F. Pinkerton</td>\n",
       "      <td>2.0</td>\n",
       "    </tr>\n",
       "    <tr>\n",
       "      <th>840385</th>\n",
       "      <td>Sinners in the Sun</td>\n",
       "      <td>1932</td>\n",
       "      <td>Cary Grant</td>\n",
       "      <td>actor</td>\n",
       "      <td>Ridgeway</td>\n",
       "      <td>8.0</td>\n",
       "    </tr>\n",
       "    <tr>\n",
       "      <th>840406</th>\n",
       "      <td>This Is the Night</td>\n",
       "      <td>1932</td>\n",
       "      <td>Cary Grant</td>\n",
       "      <td>actor</td>\n",
       "      <td>Stephen Mathewson</td>\n",
       "      <td>5.0</td>\n",
       "    </tr>\n",
       "    <tr>\n",
       "      <th>840345</th>\n",
       "      <td>Devil and the Deep</td>\n",
       "      <td>1932</td>\n",
       "      <td>Cary Grant</td>\n",
       "      <td>actor</td>\n",
       "      <td>Lt. Jaeckel</td>\n",
       "      <td>4.0</td>\n",
       "    </tr>\n",
       "    <tr>\n",
       "      <th>840366</th>\n",
       "      <td>Merrily We Go to Hell</td>\n",
       "      <td>1932</td>\n",
       "      <td>Cary Grant</td>\n",
       "      <td>actor</td>\n",
       "      <td>'DeBrion' in play</td>\n",
       "      <td>9.0</td>\n",
       "    </tr>\n",
       "    <tr>\n",
       "      <th>840338</th>\n",
       "      <td>Blonde Venus</td>\n",
       "      <td>1932</td>\n",
       "      <td>Cary Grant</td>\n",
       "      <td>actor</td>\n",
       "      <td>Nick Townsend</td>\n",
       "      <td>3.0</td>\n",
       "    </tr>\n",
       "  </tbody>\n",
       "</table>\n",
       "</div>"
      ],
      "text/plain": [
       "                                    title  year        name   type  \\\n",
       "840353                    His Girl Friday  1940  Cary Grant  actor   \n",
       "840371                   My Favorite Wife  1940  Cary Grant  actor   \n",
       "840397            The Howards of Virginia  1940  Cary Grant  actor   \n",
       "840399             The Philadelphia Story  1940  Cary Grant  actor   \n",
       "840379             Only Angels Have Wings  1939  Cary Grant  actor   \n",
       "840359                       In Name Only  1939  Cary Grant  actor   \n",
       "840352                          Gunga Din  1939  Cary Grant  actor   \n",
       "840340                   Bringing Up Baby  1938  Cary Grant  actor   \n",
       "840354                            Holiday  1938  Cary Grant  actor   \n",
       "840392                    The Awful Truth  1937  Cary Grant  actor   \n",
       "840402              The Toast of New York  1937  Cary Grant  actor   \n",
       "840408                             Topper  1937  Cary Grant  actor   \n",
       "840413                When You're in Love  1937  Cary Grant  actor   \n",
       "840412                    Wedding Present  1936  Cary Grant  actor   \n",
       "840387                               Suzy  1936  Cary Grant  actor   \n",
       "840388                    Sylvia Scarlett  1936  Cary Grant  actor   \n",
       "840337                     Big Brown Eyes  1936  Cary Grant  actor   \n",
       "840391  The Amazing Quest of Ernest Bliss  1936  Cary Grant  actor   \n",
       "840347                      Enter Madame!  1935  Cary Grant  actor   \n",
       "840414                  Wings in the Dark  1935  Cary Grant  actor   \n",
       "840398                   The Last Outpost  1935  Cary Grant  actor   \n",
       "840363               Ladies Should Listen  1934  Cary Grant  actor   \n",
       "840404                Thirty Day Princess  1934  Cary Grant  actor   \n",
       "840339                     Born to Be Bad  1934  Cary Grant  actor   \n",
       "840361                   Kiss and Make-Up  1934  Cary Grant  actor   \n",
       "840334                Alice in Wonderland  1933  Cary Grant  actor   \n",
       "840403                  The Woman Accused  1933  Cary Grant  actor   \n",
       "840384                 She Done Him Wrong  1933  Cary Grant  actor   \n",
       "840358                       I'm No Angel  1933  Cary Grant  actor   \n",
       "840350                      Gambling Ship  1933  Cary Grant  actor   \n",
       "840395             The Eagle and the Hawk  1933  Cary Grant  actor   \n",
       "840355                       Hot Saturday  1932  Cary Grant  actor   \n",
       "840365              Merrily We Go to Hell  1932  Cary Grant  actor   \n",
       "840364                   Madame Butterfly  1932  Cary Grant  actor   \n",
       "840385                 Sinners in the Sun  1932  Cary Grant  actor   \n",
       "840406                  This Is the Night  1932  Cary Grant  actor   \n",
       "840345                 Devil and the Deep  1932  Cary Grant  actor   \n",
       "840366              Merrily We Go to Hell  1932  Cary Grant  actor   \n",
       "840338                       Blonde Venus  1932  Cary Grant  actor   \n",
       "\n",
       "                        character     n  \n",
       "840353               Walter Burns   1.0  \n",
       "840371                       Nick   2.0  \n",
       "840397                Matt Howard   1.0  \n",
       "840399         C. K. Dexter Haven   1.0  \n",
       "840379               Geoff Carter   1.0  \n",
       "840359                Alec Walker   2.0  \n",
       "840352                     Cutter   1.0  \n",
       "840340                      David   2.0  \n",
       "840354                Johnny Case   2.0  \n",
       "840392             Jerry Warriner   2.0  \n",
       "840402                  Nick Boyd   2.0  \n",
       "840408               George Kerby   2.0  \n",
       "840413               Jimmy Hudson   2.0  \n",
       "840412              Charlie Mason   2.0  \n",
       "840387            Andre Charville   3.0  \n",
       "840388              Jimmy Monkley   2.0  \n",
       "840337                 Danny Barr   1.0  \n",
       "840391               Ernest Bliss   1.0  \n",
       "840347          Gerald Fitzgerald   2.0  \n",
       "840414                 Ken Gordon   2.0  \n",
       "840398            Michael Andrews   1.0  \n",
       "840363           Julian De Lussac   1.0  \n",
       "840404         Porter Madison III   2.0  \n",
       "840339             Malcolm Trevor   2.0  \n",
       "840361          Dr. Maurice Lamar   1.0  \n",
       "840334                Mock Turtle  10.0  \n",
       "840403             Jeffrey Baxter   2.0  \n",
       "840384           Captain Cummings   2.0  \n",
       "840358               Jack Clayton   2.0  \n",
       "840350                 Ace Corbin   1.0  \n",
       "840395              Henry Crocker   2.0  \n",
       "840355            Romer Sheffield   1.0  \n",
       "840365             Charlie Baxter   9.0  \n",
       "840364  Lieutenant B.F. Pinkerton   2.0  \n",
       "840385                   Ridgeway   8.0  \n",
       "840406          Stephen Mathewson   5.0  \n",
       "840345                Lt. Jaeckel   4.0  \n",
       "840366          'DeBrion' in play   9.0  \n",
       "840338              Nick Townsend   3.0  "
      ]
     },
     "execution_count": 71,
     "metadata": {},
     "output_type": "execute_result"
    }
   ],
   "source": [
    "roles2.sort_values('year',ascending=False)"
   ]
  },
  {
   "cell_type": "markdown",
   "metadata": {
    "collapsed": true
   },
   "source": [
    "### How many roles were available for actors in the 1950s?"
   ]
  },
  {
   "cell_type": "code",
   "execution_count": 76,
   "metadata": {},
   "outputs": [
    {
     "data": {
      "text/plain": [
       "15007"
      ]
     },
     "execution_count": 76,
     "metadata": {},
     "output_type": "execute_result"
    }
   ],
   "source": [
    "cast[cast.year==1950].groupby('character').size().value_counts().sum()"
   ]
  },
  {
   "cell_type": "code",
   "execution_count": null,
   "metadata": {
    "collapsed": true
   },
   "outputs": [],
   "source": []
  },
  {
   "cell_type": "markdown",
   "metadata": {
    "collapsed": true
   },
   "source": [
    "### How many roles were available for actresses in the 1950s?"
   ]
  },
  {
   "cell_type": "code",
   "execution_count": 83,
   "metadata": {},
   "outputs": [
    {
     "data": {
      "text/plain": [
       "4052"
      ]
     },
     "execution_count": 83,
     "metadata": {},
     "output_type": "execute_result"
    }
   ],
   "source": [
    "cast[(cast.year==1950) & (cast.type!='actor')].groupby('character').size().value_counts().sum()"
   ]
  },
  {
   "cell_type": "code",
   "execution_count": null,
   "metadata": {
    "collapsed": true
   },
   "outputs": [],
   "source": []
  },
  {
   "cell_type": "markdown",
   "metadata": {
    "collapsed": true
   },
   "source": [
    "### How many leading roles (n=1) were available from the beginning of film history through 1980?"
   ]
  },
  {
   "cell_type": "code",
   "execution_count": 91,
   "metadata": {},
   "outputs": [],
   "source": [
    "lr=cast[(cast.year<=1980) & (cast.n==1)].sort_values('year',ascending=True)"
   ]
  },
  {
   "cell_type": "code",
   "execution_count": 95,
   "metadata": {},
   "outputs": [
    {
     "data": {
      "text/plain": [
       "51200"
      ]
     },
     "execution_count": 95,
     "metadata": {},
     "output_type": "execute_result"
    }
   ],
   "source": [
    "lr.groupby('character').size().value_counts().sum()"
   ]
  },
  {
   "cell_type": "markdown",
   "metadata": {
    "collapsed": true
   },
   "source": [
    "### How many non-leading roles were available through from the beginning of film history through 1980?"
   ]
  },
  {
   "cell_type": "code",
   "execution_count": 100,
   "metadata": {},
   "outputs": [],
   "source": [
    "nlr=cast[(cast.year<=1980) & (cast.n>=15)].sort_values('year',ascending=True) ##consider n >15 is non leading character ##"
   ]
  },
  {
   "cell_type": "code",
   "execution_count": 101,
   "metadata": {},
   "outputs": [
    {
     "data": {
      "text/plain": [
       "79311"
      ]
     },
     "execution_count": 101,
     "metadata": {},
     "output_type": "execute_result"
    }
   ],
   "source": [
    "nlr.groupby('character').size().value_counts().sum()"
   ]
  },
  {
   "cell_type": "markdown",
   "metadata": {
    "collapsed": true
   },
   "source": [
    "### How many roles through 1980 were minor enough that they did not warrant a numeric \"n\" rank?"
   ]
  },
  {
   "cell_type": "code",
   "execution_count": 102,
   "metadata": {},
   "outputs": [],
   "source": [
    "minor=cast[(cast.year<=1980) & (cast.n.isnull())]"
   ]
  },
  {
   "cell_type": "code",
   "execution_count": 105,
   "metadata": {},
   "outputs": [
    {
     "data": {
      "text/plain": [
       "186116"
      ]
     },
     "execution_count": 105,
     "metadata": {},
     "output_type": "execute_result"
    }
   ],
   "source": [
    "minor.groupby('character').size().value_counts().sum()"
   ]
  },
  {
   "cell_type": "code",
   "execution_count": null,
   "metadata": {},
   "outputs": [],
   "source": []
  }
 ],
 "metadata": {
  "kernelspec": {
   "display_name": "Python 3",
   "language": "python",
   "name": "python3"
  },
  "language_info": {
   "codemirror_mode": {
    "name": "ipython",
    "version": 3
   },
   "file_extension": ".py",
   "mimetype": "text/x-python",
   "name": "python",
   "nbconvert_exporter": "python",
   "pygments_lexer": "ipython3",
   "version": "3.7.1"
  }
 },
 "nbformat": 4,
 "nbformat_minor": 1
}
