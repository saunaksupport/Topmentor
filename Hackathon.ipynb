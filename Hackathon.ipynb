{
 "cells": [
  {
   "cell_type": "code",
   "execution_count": 1,
   "metadata": {},
   "outputs": [],
   "source": [
    "import pandas as pd"
   ]
  },
  {
   "cell_type": "code",
   "execution_count": 115,
   "metadata": {},
   "outputs": [],
   "source": [
    "df1 = pd.read_csv('D://TOPMENTOR//PANDA//ML//HACKATHRON//Hackathon Data Set.csv')"
   ]
  },
  {
   "cell_type": "code",
   "execution_count": 116,
   "metadata": {},
   "outputs": [
    {
     "data": {
      "text/html": [
       "<div>\n",
       "<style scoped>\n",
       "    .dataframe tbody tr th:only-of-type {\n",
       "        vertical-align: middle;\n",
       "    }\n",
       "\n",
       "    .dataframe tbody tr th {\n",
       "        vertical-align: top;\n",
       "    }\n",
       "\n",
       "    .dataframe thead th {\n",
       "        text-align: right;\n",
       "    }\n",
       "</style>\n",
       "<table border=\"1\" class=\"dataframe\">\n",
       "  <thead>\n",
       "    <tr style=\"text-align: right;\">\n",
       "      <th></th>\n",
       "      <th>Ticket ID</th>\n",
       "      <th>Status</th>\n",
       "      <th>Priority</th>\n",
       "      <th>Source</th>\n",
       "      <th>Type</th>\n",
       "      <th>Agent_Name</th>\n",
       "      <th>Group</th>\n",
       "      <th>Created time</th>\n",
       "      <th>Due by Time</th>\n",
       "      <th>Resolved time</th>\n",
       "      <th>...</th>\n",
       "      <th>FRT</th>\n",
       "      <th>Resolution time (in hrs)</th>\n",
       "      <th>Agent interactions</th>\n",
       "      <th>Customer interactions</th>\n",
       "      <th>RS</th>\n",
       "      <th>FR</th>\n",
       "      <th>SR</th>\n",
       "      <th>FC</th>\n",
       "      <th>Category</th>\n",
       "      <th>Sub Category</th>\n",
       "    </tr>\n",
       "  </thead>\n",
       "  <tbody>\n",
       "    <tr>\n",
       "      <th>0</th>\n",
       "      <td>3837111.0</td>\n",
       "      <td>Closed</td>\n",
       "      <td>Medium</td>\n",
       "      <td>Bot</td>\n",
       "      <td>L2 - Analysis/Troubleshooting</td>\n",
       "      <td>Anpsy Math</td>\n",
       "      <td>Support</td>\n",
       "      <td>1/8/2019 0:04</td>\n",
       "      <td>2/8/2019 22:54</td>\n",
       "      <td>1/8/2019 21:00</td>\n",
       "      <td>...</td>\n",
       "      <td>0:47:58</td>\n",
       "      <td>20:56:09</td>\n",
       "      <td>3.0</td>\n",
       "      <td>5.0</td>\n",
       "      <td>Within SLA</td>\n",
       "      <td>Within SLA</td>\n",
       "      <td>Excellent!</td>\n",
       "      <td>6.0</td>\n",
       "      <td>SPAM Issues</td>\n",
       "      <td>Tickets</td>\n",
       "    </tr>\n",
       "    <tr>\n",
       "      <th>1</th>\n",
       "      <td>3837153.0</td>\n",
       "      <td>Closed</td>\n",
       "      <td>Low</td>\n",
       "      <td>Feedback Widget</td>\n",
       "      <td>L2 - Analysis/Troubleshooting</td>\n",
       "      <td>Eepsy Jhat</td>\n",
       "      <td>Support</td>\n",
       "      <td>1/8/2019 0:09</td>\n",
       "      <td>3/8/2019 5:00</td>\n",
       "      <td>10/10/2019 1:40</td>\n",
       "      <td>...</td>\n",
       "      <td>0:13:36</td>\n",
       "      <td>1201:29:33</td>\n",
       "      <td>9.0</td>\n",
       "      <td>6.0</td>\n",
       "      <td>SLA Violated</td>\n",
       "      <td>Within SLA</td>\n",
       "      <td>NaN</td>\n",
       "      <td>NaN</td>\n",
       "      <td>Account</td>\n",
       "      <td>Others</td>\n",
       "    </tr>\n",
       "    <tr>\n",
       "      <th>2</th>\n",
       "      <td>3837159.0</td>\n",
       "      <td>Closed</td>\n",
       "      <td>Medium</td>\n",
       "      <td>Chat</td>\n",
       "      <td>L2 - Analysis/Troubleshooting</td>\n",
       "      <td>Anpsy Pams</td>\n",
       "      <td>Support</td>\n",
       "      <td>1/8/2019 0:10</td>\n",
       "      <td>3/8/2019 0:10</td>\n",
       "      <td>1/8/2019 0:13</td>\n",
       "      <td>...</td>\n",
       "      <td>0:02:48</td>\n",
       "      <td>0:02:50</td>\n",
       "      <td>1.0</td>\n",
       "      <td>1.0</td>\n",
       "      <td>Within SLA</td>\n",
       "      <td>Within SLA</td>\n",
       "      <td>NaN</td>\n",
       "      <td>NaN</td>\n",
       "      <td>Tickets</td>\n",
       "      <td>Details Page</td>\n",
       "    </tr>\n",
       "    <tr>\n",
       "      <th>3</th>\n",
       "      <td>3837243.0</td>\n",
       "      <td>Closed</td>\n",
       "      <td>Medium</td>\n",
       "      <td>Email</td>\n",
       "      <td>L2 - Analysis/Troubleshooting</td>\n",
       "      <td>Pupsy Than</td>\n",
       "      <td>Support</td>\n",
       "      <td>1/8/2019 0:20</td>\n",
       "      <td>3/8/2019 3:51</td>\n",
       "      <td>1/8/2019 21:53</td>\n",
       "      <td>...</td>\n",
       "      <td>1:09:44</td>\n",
       "      <td>21:32:38</td>\n",
       "      <td>2.0</td>\n",
       "      <td>2.0</td>\n",
       "      <td>Within SLA</td>\n",
       "      <td>Within SLA</td>\n",
       "      <td>Excellent!</td>\n",
       "      <td>6.0</td>\n",
       "      <td>Account</td>\n",
       "      <td>Plans and Billing</td>\n",
       "    </tr>\n",
       "    <tr>\n",
       "      <th>4</th>\n",
       "      <td>3837281.0</td>\n",
       "      <td>Closed</td>\n",
       "      <td>Low</td>\n",
       "      <td>Chat</td>\n",
       "      <td>L1 - How To's</td>\n",
       "      <td>Japsy Dnan</td>\n",
       "      <td>Support</td>\n",
       "      <td>1/8/2019 0:25</td>\n",
       "      <td>5/8/2019 23:59</td>\n",
       "      <td>1/8/2019 0:53</td>\n",
       "      <td>...</td>\n",
       "      <td>0:28:36</td>\n",
       "      <td>0:28:22</td>\n",
       "      <td>1.0</td>\n",
       "      <td>1.0</td>\n",
       "      <td>Within SLA</td>\n",
       "      <td>Within SLA</td>\n",
       "      <td>NaN</td>\n",
       "      <td>NaN</td>\n",
       "      <td>Email</td>\n",
       "      <td>Sendgrid</td>\n",
       "    </tr>\n",
       "  </tbody>\n",
       "</table>\n",
       "<p>5 rows × 24 columns</p>\n",
       "</div>"
      ],
      "text/plain": [
       "   Ticket ID  Status Priority           Source                           Type  \\\n",
       "0  3837111.0  Closed   Medium              Bot  L2 - Analysis/Troubleshooting   \n",
       "1  3837153.0  Closed      Low  Feedback Widget  L2 - Analysis/Troubleshooting   \n",
       "2  3837159.0  Closed   Medium             Chat  L2 - Analysis/Troubleshooting   \n",
       "3  3837243.0  Closed   Medium            Email  L2 - Analysis/Troubleshooting   \n",
       "4  3837281.0  Closed      Low             Chat                  L1 - How To's   \n",
       "\n",
       "   Agent_Name    Group   Created time     Due by Time    Resolved time  \\\n",
       "0  Anpsy Math  Support  1/8/2019 0:04  2/8/2019 22:54   1/8/2019 21:00   \n",
       "1  Eepsy Jhat  Support  1/8/2019 0:09   3/8/2019 5:00  10/10/2019 1:40   \n",
       "2  Anpsy Pams  Support  1/8/2019 0:10   3/8/2019 0:10    1/8/2019 0:13   \n",
       "3  Pupsy Than  Support  1/8/2019 0:20   3/8/2019 3:51   1/8/2019 21:53   \n",
       "4  Japsy Dnan  Support  1/8/2019 0:25  5/8/2019 23:59    1/8/2019 0:53   \n",
       "\n",
       "         ...              FRT Resolution time (in hrs) Agent interactions  \\\n",
       "0        ...          0:47:58                 20:56:09                3.0   \n",
       "1        ...          0:13:36               1201:29:33                9.0   \n",
       "2        ...          0:02:48                  0:02:50                1.0   \n",
       "3        ...          1:09:44                 21:32:38                2.0   \n",
       "4        ...          0:28:36                  0:28:22                1.0   \n",
       "\n",
       "  Customer interactions            RS          FR          SR   FC  \\\n",
       "0                   5.0    Within SLA  Within SLA  Excellent!  6.0   \n",
       "1                   6.0  SLA Violated  Within SLA         NaN  NaN   \n",
       "2                   1.0    Within SLA  Within SLA         NaN  NaN   \n",
       "3                   2.0    Within SLA  Within SLA  Excellent!  6.0   \n",
       "4                   1.0    Within SLA  Within SLA         NaN  NaN   \n",
       "\n",
       "      Category       Sub Category  \n",
       "0  SPAM Issues            Tickets  \n",
       "1      Account             Others  \n",
       "2      Tickets       Details Page  \n",
       "3      Account  Plans and Billing  \n",
       "4        Email           Sendgrid  \n",
       "\n",
       "[5 rows x 24 columns]"
      ]
     },
     "execution_count": 116,
     "metadata": {},
     "output_type": "execute_result"
    }
   ],
   "source": [
    "df1.head()\n",
    "        \n",
    "        "
   ]
  },
  {
   "cell_type": "code",
   "execution_count": 78,
   "metadata": {},
   "outputs": [
    {
     "data": {
      "text/plain": [
       "Group\n",
       "Support    37593\n",
       "dtype: int64"
      ]
     },
     "execution_count": 78,
     "metadata": {},
     "output_type": "execute_result"
    }
   ],
   "source": [
    "a=df1[df1.FC.isnull()].groupby('Group').size()\n",
    "a"
   ]
  },
  {
   "cell_type": "code",
   "execution_count": 79,
   "metadata": {},
   "outputs": [
    {
     "data": {
      "text/plain": [
       "Group\n",
       "Support    5714\n",
       "dtype: int64"
      ]
     },
     "execution_count": 79,
     "metadata": {},
     "output_type": "execute_result"
    }
   ],
   "source": [
    "b=df1[df1.FC.notnull()].groupby('Group').size()\n",
    "b"
   ]
  },
  {
   "cell_type": "code",
   "execution_count": 92,
   "metadata": {},
   "outputs": [
    {
     "data": {
      "text/plain": [
       "27288.0"
      ]
     },
     "execution_count": 92,
     "metadata": {},
     "output_type": "execute_result"
    }
   ],
   "source": [
    "ex=df1[df1.SR=='Excellent!'].sum()['FC']\n",
    "ex"
   ]
  },
  {
   "cell_type": "code",
   "execution_count": 93,
   "metadata": {},
   "outputs": [
    {
     "data": {
      "text/plain": [
       "156.0"
      ]
     },
     "execution_count": 93,
     "metadata": {},
     "output_type": "execute_result"
    }
   ],
   "source": [
    "bad=df1[df1.SR=='Bad'].sum()['FC']\n",
    "bad"
   ]
  },
  {
   "cell_type": "code",
   "execution_count": 94,
   "metadata": {},
   "outputs": [
    {
     "data": {
      "text/plain": [
       "139.0"
      ]
     },
     "execution_count": 94,
     "metadata": {},
     "output_type": "execute_result"
    }
   ],
   "source": [
    "awful=df1[df1.SR=='Awful!'].sum()['FC']\n",
    "awful"
   ]
  },
  {
   "cell_type": "code",
   "execution_count": 95,
   "metadata": {},
   "outputs": [
    {
     "data": {
      "text/plain": [
       "3785.0"
      ]
     },
     "execution_count": 95,
     "metadata": {},
     "output_type": "execute_result"
    }
   ],
   "source": [
    "good=df1[df1.SR=='Good'].sum()['FC']\n",
    "good"
   ]
  },
  {
   "cell_type": "code",
   "execution_count": 98,
   "metadata": {},
   "outputs": [
    {
     "data": {
      "text/plain": [
       "576.0"
      ]
     },
     "execution_count": 98,
     "metadata": {},
     "output_type": "execute_result"
    }
   ],
   "source": [
    "jk=df1[df1.SR=='Just Okay'].sum()['FC']\n",
    "jk"
   ]
  },
  {
   "cell_type": "code",
   "execution_count": 103,
   "metadata": {},
   "outputs": [],
   "source": [
    "CSAT=(ex+bad+awful+good+jk)/((a+b)*6)*100"
   ]
  },
  {
   "cell_type": "code",
   "execution_count": 104,
   "metadata": {},
   "outputs": [
    {
     "data": {
      "text/plain": [
       "Group\n",
       "Support    12.293625\n",
       "dtype: float64"
      ]
     },
     "execution_count": 104,
     "metadata": {},
     "output_type": "execute_result"
    }
   ],
   "source": [
    "CSAT"
   ]
  },
  {
   "cell_type": "code",
   "execution_count": 105,
   "metadata": {},
   "outputs": [],
   "source": [
    "csatfill=(ex+bad+awful+good+jk)/(b*6)*100"
   ]
  },
  {
   "cell_type": "code",
   "execution_count": 106,
   "metadata": {},
   "outputs": [
    {
     "data": {
      "text/plain": [
       "Group\n",
       "Support    93.174659\n",
       "dtype: float64"
      ]
     },
     "execution_count": 106,
     "metadata": {},
     "output_type": "execute_result"
    }
   ],
   "source": [
    "csatfill"
   ]
  },
  {
   "cell_type": "code",
   "execution_count": 113,
   "metadata": {},
   "outputs": [
    {
     "data": {
      "text/plain": [
       "Group\n",
       "Support    32062\n",
       "dtype: int64"
      ]
     },
     "execution_count": 113,
     "metadata": {},
     "output_type": "execute_result"
    }
   ],
   "source": [
    "RSSRNULL=df1[(df1.SR.isnull()) & (df1.RS=='Within SLA')].groupby('Group').size()\n",
    "RSSRNULL\n"
   ]
  },
  {
   "cell_type": "code",
   "execution_count": 114,
   "metadata": {},
   "outputs": [
    {
     "data": {
      "text/plain": [
       "Group\n",
       "Support    74.034221\n",
       "dtype: float64"
      ]
     },
     "execution_count": 114,
     "metadata": {},
     "output_type": "execute_result"
    }
   ],
   "source": [
    "PER=RSSRNULL/(a+b)*100\n",
    "PER"
   ]
  },
  {
   "cell_type": "code",
   "execution_count": null,
   "metadata": {},
   "outputs": [],
   "source": []
  }
 ],
 "metadata": {
  "kernelspec": {
   "display_name": "Python 3",
   "language": "python",
   "name": "python3"
  },
  "language_info": {
   "codemirror_mode": {
    "name": "ipython",
    "version": 3
   },
   "file_extension": ".py",
   "mimetype": "text/x-python",
   "name": "python",
   "nbconvert_exporter": "python",
   "pygments_lexer": "ipython3",
   "version": "3.7.1"
  }
 },
 "nbformat": 4,
 "nbformat_minor": 2
}
